{
  "nbformat": 4,
  "nbformat_minor": 0,
  "metadata": {
    "colab": {
      "name": "SENTIMENT-ANALYSIS--AMAZON-MOBILE-REVIEWS.ipynb",
      "provenance": [],
      "include_colab_link": true
    },
    "kernelspec": {
      "name": "python3",
      "display_name": "Python 3"
    }
  },
  "cells": [
    {
      "cell_type": "markdown",
      "metadata": {
        "id": "view-in-github",
        "colab_type": "text"
      },
      "source": [
        "<a href=\"https://colab.research.google.com/github/rampanduneduri/PANDU/blob/master/SENTIMENT_ANALYSIS_AMAZON_MOBILE_REVIEWS.ipynb\" target=\"_parent\"><img src=\"https://colab.research.google.com/assets/colab-badge.svg\" alt=\"Open In Colab\"/></a>"
      ]
    },
    {
      "cell_type": "code",
      "metadata": {
        "id": "qEqtdn_5LnV_",
        "colab_type": "code",
        "colab": {}
      },
      "source": [
        "import pandas as pd\n",
        "import numpy as np\n",
        "import nltk\n",
        "from sklearn.model_selection import train_test_split\n",
        "dataset=pd.read_csv(\"mobile.csv\")"
      ],
      "execution_count": 0,
      "outputs": []
    },
    {
      "cell_type": "code",
      "metadata": {
        "id": "xZ4Ex4LTMPJj",
        "colab_type": "code",
        "outputId": "db7a6b62-174c-4026-8c6f-cd511e4f1708",
        "colab": {
          "base_uri": "https://localhost:8080/",
          "height": 306
        }
      },
      "source": [
        "dataset.head()"
      ],
      "execution_count": 0,
      "outputs": [
        {
          "output_type": "execute_result",
          "data": {
            "text/html": [
              "<div>\n",
              "<style scoped>\n",
              "    .dataframe tbody tr th:only-of-type {\n",
              "        vertical-align: middle;\n",
              "    }\n",
              "\n",
              "    .dataframe tbody tr th {\n",
              "        vertical-align: top;\n",
              "    }\n",
              "\n",
              "    .dataframe thead th {\n",
              "        text-align: right;\n",
              "    }\n",
              "</style>\n",
              "<table border=\"1\" class=\"dataframe\">\n",
              "  <thead>\n",
              "    <tr style=\"text-align: right;\">\n",
              "      <th></th>\n",
              "      <th>Product Name</th>\n",
              "      <th>Brand Name</th>\n",
              "      <th>Price</th>\n",
              "      <th>Rating</th>\n",
              "      <th>Reviews</th>\n",
              "      <th>Review Votes</th>\n",
              "    </tr>\n",
              "  </thead>\n",
              "  <tbody>\n",
              "    <tr>\n",
              "      <th>0</th>\n",
              "      <td>\"CLEAR CLEAN ESN\" Sprint EPIC 4G Galaxy SPH-D7...</td>\n",
              "      <td>Samsung</td>\n",
              "      <td>199.99</td>\n",
              "      <td>5</td>\n",
              "      <td>I feel so LUCKY to have found this used (phone...</td>\n",
              "      <td>1.0</td>\n",
              "    </tr>\n",
              "    <tr>\n",
              "      <th>1</th>\n",
              "      <td>\"CLEAR CLEAN ESN\" Sprint EPIC 4G Galaxy SPH-D7...</td>\n",
              "      <td>Samsung</td>\n",
              "      <td>199.99</td>\n",
              "      <td>4</td>\n",
              "      <td>nice phone, nice up grade from my pantach revu...</td>\n",
              "      <td>0.0</td>\n",
              "    </tr>\n",
              "    <tr>\n",
              "      <th>2</th>\n",
              "      <td>\"CLEAR CLEAN ESN\" Sprint EPIC 4G Galaxy SPH-D7...</td>\n",
              "      <td>Samsung</td>\n",
              "      <td>199.99</td>\n",
              "      <td>5</td>\n",
              "      <td>Very pleased</td>\n",
              "      <td>0.0</td>\n",
              "    </tr>\n",
              "    <tr>\n",
              "      <th>3</th>\n",
              "      <td>\"CLEAR CLEAN ESN\" Sprint EPIC 4G Galaxy SPH-D7...</td>\n",
              "      <td>Samsung</td>\n",
              "      <td>199.99</td>\n",
              "      <td>4</td>\n",
              "      <td>It works good but it goes slow sometimes but i...</td>\n",
              "      <td>0.0</td>\n",
              "    </tr>\n",
              "    <tr>\n",
              "      <th>4</th>\n",
              "      <td>\"CLEAR CLEAN ESN\" Sprint EPIC 4G Galaxy SPH-D7...</td>\n",
              "      <td>Samsung</td>\n",
              "      <td>199.99</td>\n",
              "      <td>4</td>\n",
              "      <td>Great phone to replace my lost phone. The only...</td>\n",
              "      <td>0.0</td>\n",
              "    </tr>\n",
              "  </tbody>\n",
              "</table>\n",
              "</div>"
            ],
            "text/plain": [
              "                                        Product Name  ... Review Votes\n",
              "0  \"CLEAR CLEAN ESN\" Sprint EPIC 4G Galaxy SPH-D7...  ...          1.0\n",
              "1  \"CLEAR CLEAN ESN\" Sprint EPIC 4G Galaxy SPH-D7...  ...          0.0\n",
              "2  \"CLEAR CLEAN ESN\" Sprint EPIC 4G Galaxy SPH-D7...  ...          0.0\n",
              "3  \"CLEAR CLEAN ESN\" Sprint EPIC 4G Galaxy SPH-D7...  ...          0.0\n",
              "4  \"CLEAR CLEAN ESN\" Sprint EPIC 4G Galaxy SPH-D7...  ...          0.0\n",
              "\n",
              "[5 rows x 6 columns]"
            ]
          },
          "metadata": {
            "tags": []
          },
          "execution_count": 5
        }
      ]
    },
    {
      "cell_type": "code",
      "metadata": {
        "id": "KSUi9VC5Kk2j",
        "colab_type": "code",
        "outputId": "5ea433c2-57dd-4e95-e6ed-7570958045fc",
        "colab": {
          "base_uri": "https://localhost:8080/",
          "height": 68
        }
      },
      "source": [
        "nltk.download('punkt')\n",
        "\n"
      ],
      "execution_count": 0,
      "outputs": [
        {
          "output_type": "stream",
          "text": [
            "[nltk_data] Downloading package punkt to /root/nltk_data...\n",
            "[nltk_data]   Unzipping tokenizers/punkt.zip.\n"
          ],
          "name": "stdout"
        },
        {
          "output_type": "execute_result",
          "data": {
            "text/plain": [
              "True"
            ]
          },
          "metadata": {
            "tags": []
          },
          "execution_count": 6
        }
      ]
    },
    {
      "cell_type": "code",
      "metadata": {
        "id": "uhn9nuh_NVse",
        "colab_type": "code",
        "colab": {}
      },
      "source": [
        "product_name=[]\n",
        "for item in dataset[\"Product Name\"]:\n",
        "    if item in product_name:\n",
        "        continue\n",
        "    else:\n",
        "        product_name.append(item)"
      ],
      "execution_count": 0,
      "outputs": []
    },
    {
      "cell_type": "code",
      "metadata": {
        "id": "-LK648P2VzZA",
        "colab_type": "code",
        "outputId": "e797fef2-45f0-46fe-8343-63782142d561",
        "colab": {
          "base_uri": "https://localhost:8080/",
          "height": 54
        }
      },
      "source": [
        "print(product_name)"
      ],
      "execution_count": 0,
      "outputs": [
        {
          "output_type": "stream",
          "text": [
            "['\"CLEAR CLEAN ESN\" Sprint EPIC 4G Galaxy SPH-D700*FRONT CAMERA*ANDROID*SLIDER*QWERTY KEYBOARD*TOUCH SCREEN', '\"Nokia Asha 302 Unlocked GSM Phone with 3.2MP Camera, Video, QWERTY Keyboard, Wi-Fi, Bluetooth, FM Radio, SNS Integration, MP3/MP4 Player and microSD Slot - White International Version/Warranty', '((Unlocked))BlackBerry Bold 9650 Unlocked Clean ESN Smartphone non camera', '(LANDVO) 5.0\" Capacitive Touch MTK6582 Quad Core Android 4.2.2 3G Phone 512MB RAM 4GB ROM 2MP CAM WiFi GPS - Black', '[XMAS DEAL] [New Edition] Jethro [SC213V2] Flip Quad-band Unlocked GSM Senior & Kids Cell Phone, SOS Emergency Button, 2.4\" Large LCD with Large Keypad.', '[XMAS DEAL] Jethro [SC118] Simple Unlocked Quad-band GSM Senior & Kids Cell Phone, SOS Button, Easy to Use, Light Weight, Large Keyboard [New Firmware Edition]', \"10.6'' Inch E-passion Unlocked Smart Phone +Tablet='' Phablet'' Android 4.4 Kitkat Gsm,Wcdma Tablet Phone - Unlocked Dual Sim Card,Quad Core- At&t, Cricket,Straight Talk ,T-Mobile,H20,Net10 3g Phone Tablet 2G Ram 32G Rom[Free Leather Case]\", '2.45 \" IPS Touch Screen the World\\'s Smallest Android Smartphone Dual Sim Quadband', '2.45\" UNLOCKED Rugged Micro Android Smart Phone; Dual-Sim, WiFi, and Bluetooth', '2016 GSM Factory Unlocked! Smartphone 6\" QHD Android 5.1 Lollipop Bluetooth WiFi', '2016 Latest Mini6 Small Android 5.1 Smart Mobile Cell Phone Touch Screen Can Work With Worldwide (Gold)', '2016 Latest Mini6 Small Android 5.1 Smart Mobile Cell Phone Touch Screen Can Work Worldwide (Black)', '2016 Latest Mini6 Small Android 5.1 Smart Mobile Cell Phone Touch Screen Can Work Worldwide (Rose Gold)', '2016 Newest 6\" Unlocked Indigi M8 White Wireless SmartPhone Android 5.1 (Dual SIM) Unlocked', '3 Pack Replacement Belt Clip Holster for Otterbox Iphone 5 Defender Case - Black', '4 Inch Touch Screen Cell Phone Unlocked, Android Unlocked Gsm Smartphones Dual Camera Dual Sim Dual Standby No Contract (Blue)', '4.5 Inch Unlocked Lenovo A516 Smartphone (White) IPS Screen 854*480pixel 4GB MT6572 Dual Core Android 4.2 Dual Camera with auto Focus and Flash(Rooted + Google Play)', '4G Huawei Honor 6 Hisilicon Kirin 920 1.7GHz FDD LTE Octa Core RAM 3GB ROM 32GB 5.0\"inch FHD 1920x1080P 13MP Android 4.4 Phone (White 32GB ROM)', '4G Huawei Honor 6 Plus PE-UL00 FNC 3GB+16GB 5.5 inch FHD EMUI 3.0 (Android 4.4) Smart Phone Octa Core Hisilicon Kirin 925 1.8GHz 3600mAh Dual SIM FDD-LTE WCDMA GSM (White) (International Version)', '4G-Unlocked Huawei Honor 6 5.0 TFT LTPS Screen 1920 x 1080 pixel 13.0MP Camare Android 4.4.2 Kirin 920 Octa-core Smartphone 3GB RAM+16GB ROM Dual SIM (black)', '4G-Unlocked Huawei Honor 6 5.0 TFT LTPS Screen 1920 x 1080 pixel 13.0MP Camare Android 4.4.2 Kirin 920 Octa-core Smartphone 3GB RAM+16GB ROM Dual SIM (white) - International Version No Warranty', '5.0\" Cell Phones Unlocked Android 5.1 MTK6580 Quad Core ROM 4GB 5.0MP Camera Dual Sim Quadband-JUNING GSM/3G Smartphone White', '5.0\" Elephone P6000 MTK6732 64-bit Quad Core 2GB/16GB Android 4.4 Mobile Phone(Black)', '5.0\" Phones Unlocked Android 5.1 MTK6580 Quad Core ROM 4GB 5.0MP Camera Dual Sim Quadband-JUNING GSM/3G Cellphone Gold', '5.5 inch Factory unlocked world wide Note III 3 -HD screen Phablet, IPS 720x1280 pixels Smartphone Cellphone+ S Pen stylus(Air Command) Ultra-thin Android 4.3 OS Google Play Store(Free leather Flip case and Two batteries)', '5.5\" Android Cellphone Unlocked Dual Sim Quad Core-JUNING Smartphone White', '5.5\" Cell Phone Unlocked Dual Sim Quad Core-JUNING Android 5.1 Smartphone White', '5.5\" Cell phones Dual Sim Unlocked Android 5.1 Quad Core-JUNING Smartphone Gold', '5.5\" Cell Phones Unlocked 3G/GSM Dual Sim Android 5.1 Quad Core-JUNING Smartphone White', '5.5\" Cell Phones Unlocked Android 5.1 Quad Core Dual Sim-JUNING GSM/3G Smartphone White', '5.5\" Cellphone Dual Sim Unlocked Android 5.1 Quad Core-JUNING Smartphone White', '5.5\" Cellphone Unlocked Android 5.1 Quad Core Dual Sim-JUNING GSM/3G Cellphone Gold', '5.5\" HD Display Unlocked Android Smartphones 4G GSM USA Worldwide Dual Sim Quad Core - Plum Z550 - White', '5.5\" HD Display Unlocked Smartphones Android 4G GSM USA Worldwide Dual Sim Quad Core - Plum Z550 - Black', '5.5\" Phone Unlocked Dual Sim Quad Core-JUNING Android 5.1 Cellphone Blue', '5.5\" Phones Dual Sim Unlocked Android 5.1 Quad Core-JUNING Cellphone Pink', '5.5\" Smartphone Dual Sim Unlocked Android 5.1 Quad Core-JUNING Cellphone Black', '5.5\" Smartphone Unlocked Android 5.1 Quad Core Dual Sim-JUNING GSM/3G Cellphone Black', '5.5\" Unlocked Dual Sim Cellphone Android 5.1 MTK6580 Quad Core GSM Quadband-JUNING 3G Smartphones Black', '5.5\" Unlocked GSM Cell Phones Android 5.1 MTK6580 Quad Core Dual Sim Quadband-JUNING 3G Smartphone Black', '5.5\" Unlocked GSM Phones Android 5.1 MTK6580 Quad Core Dual Sim Quadband-JUNING 3G Smartphone Gold', '5.5\" Unlocked GSM Smartphones Android 5.1 MTK6580 Quad Core Dual Sim Quadband-JUNING 3G Cellphone White', '5.5\" Unlocked Smartphone Dual Sim Quad Core-JUNING Android 5.1 Cellphone Black', '5.5-inch Unlocked Black Lenovo A850 3g Smartphone-(960x540) Quad Core 4gb Mt6582m 1331mhz Android 4.2 Dual Camera +Dual SIM (Rooted + Google Play)', '5.5-Inch Unlocked Lenovo A850 3G Smartphone-(960x540) Quad Core 4GB MT6582m 1331MHz Android 4.2 Dual Camera +Dual SIM -Black (Rooted + Google Play)', '5200mAh Long Standby Rugged Mobile Phone with Waterproof Shockproof Dustproof Unlocked Phone for Elderly People Adventurers Army Cellphone(Black)', '5200mAh Long Standby Rugged Mobile Phone with Waterproof Shockproof Dustproof Unlocked Phone for Elderly People Adventurers Army Cellphone(Green)', '5200mAh Long Standby Rugged Mobile Phone with Waterproof Shockproof Dustproof Unlocked Phone for Elderly People Adventurers Army Cellphone(Orange)', '5530 XpressMusic Cell Phone w/ Games', '6\" Inch Unlocked Android 4.4.2 MTK6572 Dual Core Smartphone 598.0~1203.0MHz RAM 512MB ROM 4GB Unlocked WCDMA GPS QHD IPS 6inch Dual SIM Cell Phones (Black)', '6.0 inch P9 Plus unlocked Smartphone Android 5.1 Quad Core 1.2GHz Dual SIM 5.0 Camera 512MB RAM 8GB ROM GSM cell phone(Black)', '6.0\" Android 5.1 Phones Unlocked Dual Sim Quad Core GSM Quadband HD Display JUNING Smartphones Black', '6.0\" FWVGA Screen MTK6577 Dual Core 1.2GHz Android 4.0 3G Smart Phone N9776 (White)', '6inch Android 5.1 Unlocked Cell Phone MTK6580 Quad Core 604.5~1300.0MHz RAM 512MB ROM 4GB Unlocked Smartphone 6 Inch (Black)', '6inch Android 5.1 Unlocked Cell Phone MTK6580 Quad Core 604.5~1300.0MHz RAM 512MB ROM 4GB Unlocked Smartphone 6 Inch (Gold)', '7in Android 4.0 Smart Phone Tablet PC Bluetooth WiFi Google Play Store UNLOCKED!', '7-inch Phablet Smart Phone + Tablet PC Android 4.0 Bluetooth WiFi Google Play Store Unlocked!', \"7''unlocked Dual Sim Card Slot ,Dual Camera, GSM Phone Call Tablet Android 4.1 Wifi with Free Two Batteries,leather Case, 4g Memory Card,era Phone,stylus Pen,sleeve Case.at&t,t-moble and Other Gsm Company(black)\", '8330 BlackBerry Curve (US Cellular) Titanium Phone', \"90's Teenage Business Mobile Telephone Costume Cell Phone\", 'ACER LIQUID E700 TRIO 16GB TITAN BLACK TRIPLE SIM FACTORY UNLOCKED CELL PHONE', 'Acer Liquid Jade Z Andoid KitKat Unlocked Quad-Core 5\" IPS Smartphone - Retail Packaging - Charcoal Gray', 'Acer Liquid M220 Windows 8.1 Smartphone - Black', 'Acer Liquid Z410 Andoid KitKat Unlocked Quad-Core Smartphone - Retail Packaging - Brown', 'Acer Unlocked Dual Sim Smart Phone Liquid Z200', 'Aeku M5, 1.0 Inch 4.5mm Ultra Thin Fashionable Mini Mobile Positioning Card Phone, Micro SIM (solid white)', 'AKUA AKUMOBEK40W01 4.0\" EK4 Smartphone - GSM Unlocked - White', 'ALCATEL Factory Unlocking Codes. This unlocking service provides IMEI unlock codes for all models of Alcatel mobile phones. Your device will be unlocked permanently and operate on any GSM network worldwide.', 'Alcatel IDOL 4 S Unlocked 4G LTE Smartphone with VR Goggles and JBL Headset - 32GB - 5.5\" AMOLED Display - Dark Grey (U.S. Warranty)', 'Alcatel Idol 4S - Factory Unlocked Phone - Black (U.S. Version)', 'Alcatel One Touch Fierce 2, 4GB, 5\" Screen, Unlocked', 'ALCATEL OneTouch Idol 3 Global Unlocked 4G LTE Smartphone, 4.7 HD IPS Display, 16GB (GSM - US Warranty)', 'ALCATEL OneTouch Idol 3 Global Unlocked 4G LTE Smartphone, 5.5 HD IPS Display, 16GB (GSM - US Warranty)', 'ALCATEL OneTouch Pixi 3 Global Unlocked 3G Smartphone, 4.5 Display, 5MP Camera (GSM - US Warranty)', 'ALCATEL OneTouch Pixi 3 Global Unlocked 4G LTE Smartphone, 4.5 Display, 8GB (GSM - US Warranty)', 'ALCATEL OneTouch Pop 3 Global Unlocked 4G LTE Smartphone, 5.5 HD Display, 8GB (GSM - US Warranty)', 'Alcatel OneTouch Pop C1 4015T Unlocked Android 4GB 2MP - BULK PACKAGING (Black)', 'ALCATEL ONETOUCH POP™ C9 SMARTPHONE (Unlocked)', 'Alcatel PIXI 4 (5) Unlocked Phone - (Black)', 'Alcatel PIXI 4 (6\") LTE unlocked smartphone 16 GB, Metallic Silver (U.S. Warranty)', 'Alcatel POP 4 PLUS Unlocked Phone - Metal Silver', 'Alcatel POP4S - Factory Unlocked Phone - Dark Grey', 'Alcatel Sparq II 2 OT-875 Black Unlocked GSM 3G QWERTY', 'Alcatel Sparq II 875 T-Mobile Branded Cell Phone w/ Slide-out QWERTY Keyboard - Black (No Warranty)', 'Alltel LG AX390 AX-390 AX 390 SPECIAL FOR PAGE PLUS', 'Amar black 7\" Phablet GSM Unlock Pc Tablet 4gb Android Dual Camera Wifi + Calling Option Black 7\" 2g GSM Android Capacitive Touchscreen Tablet Smartphone Unlocked / A13 1200 Mhz / Dual Camera', 'Amazon Fire 32GB AT&T Smart Phone / No Contract Ready To Activate On Your AT&T Service', 'Android 5.1 Smartphone Unlocked 5.5\" Android 5.1 MTK6580 Quad Core Dual Sim Quadband-JUNING GSM/3G Cellphone Black', 'Android Phones - Lenovo S850 5.0\" Android 4.3 MTK6582 Quad Core 1.3GHz 1GB + 16GB 13.0MP Smartphone Pink', 'Android Recovery Software At Bugged.com', 'Android Star N7100 Unlocked 1.4 Ghz Dual Core 3g Smartphone with Wi-fi, Gps, Bluetooth, IPS Touch (White)', 'Android unlocked Smartphone Water/Shock/Dust Proof Smartphone Dual SIM GSM Gator 2 cell phone', 'Andy A3.5EP Factory Unlocked Phone Yezz Wireless (Black)', 'Andy A3.5EP Factory Unlocked Phone Yezz Wireless (Green)', 'Andy A4.5 - Factory Unlocked Phone - Yezz Wireless (Black)', 'Andy A4.5 - Factory Unlocked Phone - Yezz Wireless (White)', 'Apple - Iphone 5c A1532 Verizon 16 GB Cell Phone - Green', 'Apple - Iphone 5c A1532 Verizon 16 GB Cell Phone - White', 'Apple 64GB iPhone 4S White (Factory Unlocked)', 'Apple A1533 Unlocked iPhone 5S Smart Phone, 16 GB (White)', 'Apple a1549 iPhone 6 64GB T-Mobile (silver)', 'Apple iPad Mini 3 MGNR2LL/A NEWEST VERSION (16GB, Wi-Fi, Space Gray) (Certified Refurbished)', 'Apple iPad Mini 3 MGYE2LL/A NEWEST VERSION (16GB, Wi-Fi, Gold) (Certified Refurbished)', 'Apple iPad Pro ML0N2CL/A (128GB Wi-Fi Space Gray) (International Model no Warranty)', 'Apple iPhone 2G 8GB (Black)', 'Apple iPhone 3G 8GB (Black) - AT&T', 'Apple iPhone 3G Black, 16GB', 'Apple iPhone 3GS 16GB (Black) - AT&T MC135LL/A', 'Apple iPhone 3GS 16GB (White) - AT&T', 'Apple iPhone 3GS 8GB Black Factory Unlocked / Not Jailbroken', 'Apple iPhone 3GS A1303 16GB GSM Unlocked SmartPhone - Black', 'Apple Iphone 4 - 8gb Sprint (CDMA) White, Smartphone, in box with all the accessories, clean esn!!', \"Apple iPhone 4 - 8GB, BLACK, Net 10 Ready, USE VERIZON'S NETWORK!\", 'Apple iPhone 4 - GSM Unlocked Smartphone - Black - 8GB (Certified Refurbished)', 'Apple iPhone 4 16GB (A1332) - GSM Factory Unlocked - No Warranty (Black)', 'Apple iPhone 4 16GB (Black) - AT&T', 'Apple iPhone 4 16GB GSM Unlocked 1GHz Cortex-A8 SmartPhone w/ 5MP Camera - Black', 'Apple iPhone 4 32GB (Black) - AT&T', 'Apple iPhone 4 32GB (Black) - Verizon', 'Apple iPhone 4 32GB (White) - Verizon', 'Apple iPhone 4 8GB - White - AT&T', 'Apple iPhone 4 8GB Black - Cricket Wireless', 'Apple iPhone 4 8GB Unlocked- Black', 'Apple iPhone 4 8GB Verizon CDMA Smartphone - Black', 'Apple iPhone 4 8GB, Unlocked (Black)', 'Apple iPhone 4 8GB, White, for Straight Talk, No Contract', 'Apple iPhone 4 A1332 16GB White (GSM Unlocked)', 'Apple iPhone 4 A1332 32GB Black (GSM Unlocked)', 'Apple iPhone 4 A1332 32GB White (GSM Unlocked)', 'Apple iPhone 4 Black Smartphone 32GB (AT&T)', 'Apple iPhone 4s - 8GB - White (U.S. Cellular) Smartphone Clean ESN', 'Apple iPhone 4S 16GB (Black) - Locked to Sprint', 'Apple iPhone 4S 16GB (Black) - Verizon', 'Apple iPhone 4S 16GB 3G WiFi White Smartphone AT&T', 'Apple iPhone 4S 16GB Black or white (Factory Unlocked) GSM SMART PHONE (A++ QUALILY) WITH 30 DAYS WARRANTY', 'Apple iPhone 4s 16GB Factory Unlocked GSM World Smartphone w/ Siri and iCloud - White', 'Apple iPhone 4S 16GB Unlocked GSM - White (Certified Refurbished)', 'Apple iPhone 4S 16GB Unlocked GSM Smartphone - White', 'Apple iPhone 4s 16GB Unlocked GSM Smartphone w/ Siri, iCloud, and 8MP Camera - Black', 'Apple iPhone 4s 16GB White -Cricket', 'Apple iPhone 4S 32GB (Black) - AT&T', 'Apple iPhone 4S 32GB (Black) Unlocked - Verizon', 'Apple iPhone 4S 32GB (White) - AT&T', 'Apple iPhone 4S 32GB Unlocked GSM Smartphone w/ 8MP Camera w/ Siri & iCloud - Black', 'Apple iPhone 4S 32GB Unlocked GSM Smartphone w/ 8MP Camera w/ Siri & iCloud - Black (Certified Refurbished)', 'Apple iPhone 4S 32GB Unlocked GSM Smartphone w/ 8MP Camera w/ Siri & iCloud - White', 'Apple iPhone 4S 32GB White - Unlocked', 'Apple iPhone 4S 64GB (Black) - Verizon', 'Apple iPhone 4S 64GB (White) - Factory Unlocked', 'Apple iPhone 4S 64GB (White) - Sprint', 'Apple iPhone 4S 64GB Unlocked GSM Smartphone w/ 8MP Camera w/ Siri & iCloud - Black', 'Apple iPhone 4S 8GB Factory Unlocked GSM Cell Phone With Siri & iCloud - White', 'Apple iPhone 4S 8GB Unlocked GSM Cell Phone w/ Siri and iCloud - White', 'Apple iPhone 4s 8GB Unlocked GSM Smartphone w/ Siri, iCloud and 8MP Camera - Black', 'Apple iPhone 4s 8GB Unlocked Smartphone w/ 8MP Camera, White (Certified Refurbished)', 'Apple iPhone 4s a1387 8GB Black Smartphone for AT&T', 'Apple iPhone 4S GSM Unlocked 16GB Smartphone - Black', 'Apple iPhone 5 - 32GB Unlocked - White (Certified Refurbished)', 'Apple iPhone 5 16GB - Unlocked - Black (Certified Refurbished)', 'Apple iPhone 5 16GB - Unlocked - White (Certified Refurbished)', 'Apple iPhone 5 16GB (Black) - T-Mobile', 'Apple iPhone 5 16GB (White) - T-Mobile', 'Apple iPhone 5 16GB 4G LTE Global White - Sprint', 'Apple Iphone 5 16gb Cricket - Black', 'Apple iPhone 5 16GB Factory Unlocked GSM Cell Phone - Black (Certified Refurbished)', 'Apple iPhone 5 16GB Factory Unlocked GSM Cell Phone - White', 'Apple iPhone 5 16GB Verizon Wireless CDMA 4G LTE Cell Phone - Black.', 'Apple iPhone 5 16GB Verizon Wireless CDMA 4G LTE Cell Phone - White', 'Apple iPhone 5 32GB (White) - Verizon Wireless', 'Apple iPhone 5 32GB 4G LTE White - Verizon', 'Apple iPhone 5 32GB Factory Unlocked GSM Cell Phone - Black (Certified Refurbished)', 'Apple iPhone 5 64GB - Unlocked GSM Smartphone - Black (Certified Refurbished)', 'Apple iPhone 5 64GB (Black) - AT&T', 'Apple iPhone 5 64GB (White) - AT&T', 'Apple iPhone 5 64GB (White) - Sprint', 'Apple iPhone 5 64GB (White) - Verizon Wireless', 'Apple iPhone 5 64GB Unlocked GSM Cell Phone w/ 8MP Camera - Black', 'Apple iPhone 5 Cellphone, 16GB, Black (AT&T)', 'Apple iPhone 5 Factory Unlocked GSM Smartphone w/ 8MP Camera and Siri - White', 'Apple iPhone 5 Unlocked Cellphone, 16GB, Black', 'Apple iPhone 5 Unlocked Cellphone, 32GB, White', 'Apple iPhone 5 Unlocked Cellphone, 64GB, Black', 'Apple iPhone 5 Unlocked Cellphone, 64GB, White', 'Apple iPhone 5, White 16GB (GSM Unlocked)', 'Apple iPhone 5c 16GB (Blue) - Sprint', 'Apple iPhone 5c 16GB (Green) - AT&T', 'Apple iPhone 5c 16GB (Green) - Sprint', 'Apple iPhone 5c 16GB (Pink) - AT&T', 'Apple iPhone 5c 16GB (White) - Sprint', 'Apple iPhone 5c 16GB (Yellow) - AT&T', 'Apple iPhone 5c 16GB (Yellow) - Unlocked', 'Apple iPhone 5C 16GB 4G LTE Blue - T-Mobile', 'Apple iPhone 5C 16GB 4G LTE White - T-Mobile', 'Apple iPhone 5C 16GB Factory Unlocked GSM Cell Phone - Pink', 'Apple iPhone 5C 16GB Factory Unlocked GSM Cell Phone - Yellow', 'Apple iPhone 5c 16GB GSM Pink - T-Mobile', 'Apple iPhone 5C 16GB GSM Unlocked 4G LTE Cell Phone - Green', 'Apple iPhone 5C 16GB GSM Unlocked 4G LTE Smartphone w/ 8MP Camera - Green', 'Apple iPhone 5C 16GB White - Unlocked Cell Phones', 'Apple iPhone 5c 32GB - Unlocked - (Blue)', 'Apple iPhone 5c 32GB - Unlocked - (Green)', 'Apple iPhone 5c 32GB - Unlocked - (White)', 'Apple iPhone 5c 32GB - Unlocked - (Yellow)', 'Apple iPhone 5c 32GB (Blue) - AT&T', 'Apple iPhone 5c 32GB (Blue) - Verizon Wireless', 'Apple iPhone 5c 32GB (Green) - Sprint', 'Apple iPhone 5c 32GB (Green) - Unlocked', 'Apple iPhone 5c 32GB (Green) - Verizon Wireless', 'Apple iPhone 5c 32GB (Pink) - AT&T', 'Apple iPhone 5c 32GB (Pink) - Verizon Wireless', 'Apple iPhone 5c 32GB (White) - AT&T', 'Apple iPhone 5c 32GB (White) - Sprint', 'Apple iPhone 5c 32GB (Yellow) - AT&T', 'Apple iPhone 5c 32GB (Yellow) - Sprint', 'Apple iPhone 5c 32GB (Yellow) - Unlocked', 'Apple iPhone 5c 32GB (Yellow) - Verizon Wireless', 'Apple iPhone 5C 32GB Factory Unlocked GSM Cell Phone - Blue', 'Apple iPhone 5C 32GB Factory Unlocked GSM Cell Phone - Pink', 'Apple iPhone 5C 32GB Factory Unlocked GSM Cell Phone - White', 'Apple iPhone 5c 8GB (Green) - Verizon Wireless', 'Apple iPhone 5c 8GB (Pink) - Verizon Wireless', 'Apple iPhone 5c 8GB (Yellow) - Verizon Wireless', 'Apple iPhone 5C 8GB Factory Unlocked GSM Cell Phone - White', 'Apple iPhone 5c 8GB GSM Unlocked Smartphone w/ 8MP Camera - Green', 'Apple iPhone 5c 8GB Unlocked GSM Smartphone - Green', 'Apple iPhone 5c 8GB Unlocked GSM Smartphone w/ 8MP Camera - Green', 'Apple iPhone 5c 8GB White - AT&T', 'Apple iPhone 5c a1532 8GB Blue Smartphone for AT&T', 'Apple iPhone 5c a1532 8GB White Smartphone for T-Mobile (Unlocked)', 'Apple Iphone 5c A1532 Verizon 16 GB Cell Phone - Blue', 'Apple iPhone 5C A1532 Verizon Wireless 16 GB Cell Phone - Pink', 'Apple iPhone 5c A1532, 8 GB, Factory Unlocked (Pink)', 'Apple iPhone 5c AT&T Cellphone, 16GB, Blue', 'Apple iPhone 5c AT&T Cellphone, 16GB, White', 'Apple iPhone 5C Blue 16GB Unlocked GSM Smartphone (Certified Refurbished)', 'Apple iPhone 5C Blue 32GB Unlocked GSM Smartphone (Certified Refurbished)', 'Apple iPhone 5c Factory Unlocked Cellphone, 8GB, Blue', 'Apple iPhone 5C Green 16GB Unlocked GSM Smartphone (Certified Refurbished)', 'Apple iPhone 5c Green 32GB Unlocked Phone', 'Apple iPhone 5C Green 8GB Unlocked GSM Smartphone (Certified Refurbished)', 'Apple iPhone 5C Pink 32GB Unlocked GSM Smartphone (Certified Refurbished)', 'Apple iPhone 5c Unlocked Cellphone, 16GB, Blue', 'Apple iPhone 5c Unlocked Cellphone, 16GB, Green', 'Apple iPhone 5c Unlocked Cellphone, 16GB, Pink', 'Apple iPhone 5c Unlocked Cellphone, 32GB, Pink', 'Apple iPhone 5c Unlocked Phone - Retail Packaging - Blue', 'Apple iPhone 5C White 32GB Unlocked GSM Smartphone (Certified Refurbished)', 'Apple iPhone 5C Yellow 16GB Unlocked GSM Smartphone (Certified Refurbished)', 'Apple iPhone 5C Yellow 32GB Unlocked GSM Smartphone (Certified Refurbished)', 'Apple iPhone 5C Yellow 8GB Unlocked GSM Smartphone (Certified Refurbished)', 'Apple iPhone 5s 16GB (Gold) - T-Mobile', 'Apple iPhone 5s 16GB (Silver) - T-Mobile', 'Apple iPhone 5s 16GB (Silver) - Verizon Wireless', 'Apple iPhone 5s 16GB (Space Gray) - Verizon Wireless', 'Apple iPhone 5S 16GB Factory Unlocked GSM Cell Phone - Silver/White', 'Apple iPhone 5S 16GB Factory Unlocked Smartphone w/ Retina Display -ME298 GOLD', 'Apple iPhone 5S 16GB Gold GSM Unlocked (Certified Refurbished)', 'Apple iPhone 5s 16GB GSM Smartphone - Factory Unlocked by Apple (White/Silver)', 'Apple iPhone 5S 16GB Silver GSM Unlocked (Certified Refurbished)', 'Apple iPhone 5S 16GB Silver LTE Cellular Straight Talk MN6T2LL/A', 'Apple iPhone 5s 16GB Space Gray - Cricket Wireless', 'Apple iPhone 5s 16GB Unlocked GSM 4G LTE Smartphone w/ Fingerprint Sensor - Space Gray', 'Apple iPhone 5s 16GB Verizon + Unlocked GSM 4G LTE Smartphone - Gold', 'Apple iPhone 5S 32 gb (Space Gray) - AT&T', 'Apple iPhone 5s 32GB (Gold) - AT&T', 'Apple iPhone 5s 32GB (Gold) - T-Mobile', 'Apple iPhone 5s 32GB (Gold) - Verizon Wireless', 'Apple iPhone 5s 32GB (Silver) - AT&T', 'Apple iPhone 5s 32GB (Silver) - Verizon Wireless', 'Apple iPhone 5s 32GB (Space Gray) - T-Mobile', 'Apple iPhone 5s 32GB (Space Gray) - Verizon Wireless', 'Apple iPhone 5s 64GB (Gold) - Verizon Wireless', 'Apple iPhone 5s 64GB (Gold) -T-Mobile', 'Apple iPhone 5s 64GB (Silver) - T-Mobile', 'Apple iPhone 5s 64GB (Space Gray) - T-Mobile', 'Apple iPhone 5S 64GB (Space Gray) Factory Unlocked GSM', 'Apple iPhone 5s 64GB Gold - AT&T', 'Apple iPhone 5S 64GB GSM Unlocked, Gold (Certified Refurbished)', 'Apple iPhone 5S 64GB GSM Unlocked, Space Gray (Certified Refurbished)', 'Apple iPhone 5s a1533 16GB Space Gray Smartphone Unlocked (Certified Refurbished)', 'Apple iPhone 5s A1533 Unlocked Smartphone with GSM, 4G LTE, 16GB , 1GB RAM, 8 MP (Gold)', 'Apple iPhone 5s AT&T Cellphone, 16GB, Gold', 'Apple iPhone 5s AT&T Cellphone, 16GB, Silver', 'Apple iPhone 5s Factory Unlocked for all GSM Carriers w/ 8MP Camera and Fingerprint Sensor Button - Silver/White', 'Apple iPhone 5S Space Gray 32GB Unlocked GSM Smartphone, Space Gray (Certified Refurbished)', 'Apple iPhone 5s T-Mobile Cellphone, 16GB, Space Gray', 'Apple iPhone 5s Unlocked Cellphone, 16 GB, Gold', 'Apple iPhone 5s Unlocked Cellphone, 16 GB, Silver', 'Apple iPhone 5s Unlocked Cellphone, 32 GB, Silver', 'Apple iPhone 5s Unlocked Cellphone, 64 GB, Gold', 'Apple iPhone 5s Unlocked Cellphone, 64 GB, Silver', 'Apple iPhone 5s Unlocked Cellphone, 64 GB, Space Gray', 'Apple Iphone 5s, 16GB - Space Grey (Straight Talk)', 'Apple iPhone 6 - Unlocked (Silver) 16GB', 'Apple iPhone 6 (4.7 inch - diagonal), 64GB, Verizon Wireless (Silver)', 'Apple iPhone 6 (4.7 inch - diagonal), Silver, 16 GB (Sprint)', 'Apple iPhone 6 (Factory Unlocked), 64GB, Gold', 'Apple iPhone 6 128GB (4.7-inch) 4G LTE Factory Unlocked GSM Dual-Core Smartphone - Silver', 'Apple iPhone 6 128GB (AT&T) - Grey', 'Apple iPhone 6 128GB Factory Unlocked GSM 4G LTE Smartphone, Gold (Certified Refurbished)', 'Apple iPhone 6 128GB Factory Unlocked GSM 4G LTE Smartphone, Silver (Certified Refurbished)', 'Apple iPhone 6 128GB Factory Unlocked GSM 4G LTE Smartphone, Space Gray (Certified Refurbished)', 'Apple iPhone 6 128GB Factory Unlocked GSM Smartphone w/ 12MP Camera - Gold (Certified Refurbished)', 'Apple iPhone 6 128GB Factory Unlocked GSM Smartphone w/ 12MP Camera - Silver (Certified Refurbished)', 'Apple iPhone 6 128GB Silver AT&T', 'Apple iPhone 6 16GB Factory Unlocked GSM 4G LTE Smartphone, Gold (Certified Refurbished)', 'Apple iPhone 6 16GB Factory Unlocked GSM 4G LTE Smartphone, Silver (Certified Refurbished)', 'Apple iPhone 6 16GB Factory Unlocked GSM 4G LTE Smartphone, Space Grey (Certified Refurbished)', 'Apple iPhone 6 16GB Factory Unlocked GSM Cell Phone - Space Grey', 'Apple iPhone 6 16GB Gold (Verizon Wireless)', 'Apple iPhone 6 16GB Space Gray 4.7\" 4G LTE Factory Unlocked GSM Smartphone', 'Apple iPhone 6 64GB (AT&T) - Space Gray', 'Apple iPhone 6 64GB Factory Unlocked GSM 4G LTE Cell Phone - Gold', 'Apple iPhone 6 64GB Factory Unlocked GSM 4G LTE Smartphone, Silver (Certified Refurbished)', 'Apple iPhone 6 64GB Factory Unlocked GSM Smartphone w/ 12MP Camera - Silver (Certified Refurbished)', 'Apple iPhone 6 64GB Space Gray - (Verizon Wireless)', 'Apple iPhone 6 64GB Unlocked GSM Smartphone - Space Gray (Certified Refurbished)', 'Apple iPhone 6 64GB Unlocked Smartphone - Gold (Certified Refurbished)', 'Apple iPhone 6 a1549 16GB Silver Unlocked (Certified Refurbished)', 'Apple iPhone 6 a1549 16GB Space Gray Unlocked', 'Apple iPhone 6 a1549 16GB Space Gray Unlocked (Certified Refurbished)', 'Apple iPhone 6 a1549 64GB Space Gray Unlocked (Certified Refurbished)', 'Apple iPhone 6 A1549 AT&T Cellphone, 16GB, Gold', 'Apple iPhone 6 Factory Unlocked Cellphone, 128GB, Space Gray', 'Apple iPhone 6 MG4E2LL/A 128GB Factory Unlocked Gold', 'Apple iPhone 6 Plus (5.5 inch - diagonal) 16GB Unlocked Phone - Retail Packaging - Space Gray', 'Apple iPhone 6 Plus 128GB Factory Unlocked GSM 4G LTE Cell Phone - Gold', 'Apple iPhone 6 Plus 128GB Factory Unlocked GSM 4G LTE Cell Phone - Silver', 'Apple iPhone 6 Plus 128GB Factory Unlocked GSM 4G LTE Cell Phone - Space Gray', 'Apple iPhone 6 Plus 128GB Factory Unlocked GSM 4G LTE Smartphone, Space Gray (Certified Refurbished)', 'Apple iPhone 6 Plus 128GB Silver Verizon 4G LTE', 'Apple iPhone 6 Plus 128GB Unlocked Smartphone - Space Gray (Certified Refurbished)', 'Apple iPhone 6 Plus 16GB - Verizon - Clean ESN - Gold - Great Condition', 'Apple iPhone 6 Plus 16GB Factory Unlocked GSM 4G LTE Smartphone, Gold (Certified Refurbished)', 'Apple iPhone 6 Plus 16GB Factory Unlocked GSM 4G LTE Smartphone, Silver (Certified Refurbished)', 'Apple iPhone 6 Plus 64GB Factory Unlocked GSM 4G LTE Cell Phone - Space Gray', 'Apple iPhone 6 Plus 64GB Factory Unlocked GSM 4G LTE Smartphone, Gold (Certified Refurbished)', 'Apple iPhone 6 Plus 64GB Gold (Factory Unlocked)', 'Apple iPhone 6 Plus 64GB Silver - Verizon', 'Apple iPhone 6 Plus 64GB Space Gray - Verizon', 'Apple iPhone 6 Plus 64GB Unlocked GSM 4G LTE Smartphone - Silver (Certified Refurbished)', 'Apple iPhone 6 Plus 64GB Unlocked Smartphone - Silver (Certified Refurbished)', 'Apple iPhone 6 Plus a1522 128GB Space Gray Smartphone Verizon Unlocked', 'Apple iPhone 6 Plus a1522 16GB Gold for T-Mobile', 'Apple iPhone 6 Plus a1522 16GB Gold Unlocked (Certified Refurbished)', 'Apple iPhone 6 Plus A1522 16GB Silver - Verizon Wireless', 'Apple iPhone 6 Plus Factory Unlocked Cellphone, 64GB, Gold', 'Apple iPhone 6 Plus Factory Unlocked Cellphone, 64GB, Silver', 'Apple iPhone 6 Plus Gold 64GB Unlocked Smartphone (Certified Refurbished)', 'Apple iPhone 6 Plus Silver 16GB Unlocked Smartphone (Certified Refurbished)', 'Apple iPhone 6 Plus Silver 64GB Unlocked Smartphone (Certified Refurbished)', 'Apple iPhone 6 Plus Space Gray 64GB Unlocked Smartphone (Certified Refurbished)', 'Apple iPhone 6 plus unlocked Cellphone, 128GB (Gold)', 'Apple iPhone 6 Plus Unlocked Cellphone, 16GB, Silver', 'Apple iPhone 6 Plus Unlocked Cellphone, 16GB, Space Gray', 'Apple iPhone 6 Plus, Gold, 128 GB (Sprint)', 'Apple iPhone 6 Plus, Gold, 16 GB (Sprint)', 'Apple iPhone 6 Plus, Gold, 64 GB (Sprint)', 'Apple iPhone 6 Plus, Silver, 128 GB (Sprint)', 'Apple iPhone 6 Plus, Silver, 16 GB (T-Mobile)', 'Apple iPhone 6 Plus, Silver, 64 GB (T-Mobile)', 'Apple iPhone 6 Plus, Space Gray, 128 GB (AT&T)', 'Apple iPhone 6 Plus, Space Gray, 128 GB (Sprint)', 'Apple iPhone 6 Plus, Space Gray, 128 GB (T-Mobile)', 'Apple iPhone 6 Plus, Space Gray, 16 GB (Sprint)', 'Apple iPhone 6 Plus, Space Gray, 16 GB (Verizon)', 'Apple iPhone 6 Plus, Space Gray, 64 GB (T-Mobile)', 'Apple iPhone 6 Plus, Space Gray, 64 GB (Verizon)', 'Apple iPhone 6 Unlocked GSM Cell Phone - Silver', 'Apple iPhone 6, Gold, 128 GB (Sprint)', 'Apple iPhone 6, Gold, 128 GB (Verizon)', 'Apple iPhone 6, Gold, 16 GB (Sprint)', 'Apple iPhone 6, Gold, 16 GB (T-Mobile)', 'Apple iPhone 6, Gold, 64 GB (Sprint)', 'Apple iPhone 6, Silver, 128 GB (Sprint)', 'Apple iPhone 6, Silver, 128 GB (Verizon)', 'Apple iPhone 6, Silver, 16 GB (AT&T)', 'Apple iPhone 6, Silver, 64 GB (Sprint)', 'Apple iPhone 6, Space Gray, 128 GB (Sprint)', 'Apple iPhone 6, Space Gray, 128 GB (Verizon)', 'Apple iPhone 6, Space Gray, 16 GB (Sprint)', 'Apple iPhone 6, Space Gray, 16GB (AT&T)', 'Apple iPhone 6, Space Gray, 16GB (T-Mobile)', 'Apple iPhone 6, Space Gray, 64 GB (T-Mobile)', 'Apple iPhone 6s 128 GB International Warranty Unlocked Cellphone - Retail Packaging (Gold)', 'Apple iPhone 6s 128 GB International Warranty Unlocked Cellphone - Retail Packaging (Rose Gold)', 'Apple iPhone 6s 128 GB International Warranty Unlocked Cellphone - Retail Packaging (Silver)', 'Apple iPhone 6S 128 GB Unlocked + GSM 4G LTE Smartphone w/12 MP Camera - Gold (Certified Refurbished)', 'Apple iPhone 6S 128 GB Unlocked + GSM 4G LTE Smartphone w/12 MP Camera - Space Gray (Certified Refurbished)', 'Apple iPhone 6s 128 GB US Warranty Unlocked Cellphone - Retail Packaging (Gold)', 'Apple iPhone 6s 128 GB US Warranty Unlocked Cellphone - Retail Packaging (Silver)', 'Apple iPhone 6s 128 GB US Warranty Unlocked Cellphone - Retail Packaging (Space Gray)', 'Apple iPhone 6s 128GB Unlocked GSM 4G LTE Smartphone w/12MP Camera - Rose Gold (Certified Refurbished)', 'Apple iPhone 6s 16 GB International Warranty Unlocked Cellphone - Retail Packaging (Gold)', 'Apple iPhone 6s 16 GB International Warranty Unlocked Cellphone - Retail Packaging (Space Gray)', 'Apple iPhone 6s 16 GB US Domestic Warranty Unlocked Cellphone - Retail Packaging (Space Gray)', 'Apple iPhone 6s 16 GB US Warranty Unlocked Cellphone - Retail Packaging (Rose Gold)', 'Apple iPhone 6s 16 GB US Warranty Unlocked Cellphone - Retail Packaging (Silver)', 'Apple iPhone 6s 16GB GSM Unlocked 4G LTE Smartphone w/ 12MP Camera - Gold', 'Apple Iphone 6s 16gb Space Gray T-mobile', 'Apple iPhone 6s 16GB Unlocked GSM 4G LTE Smartphone w/12MP Camera - Gold (Certified Refurbished)', 'Apple iPhone 6s 16GB Unlocked GSM 4G LTE Smartphone w/12MP Camera - Rose Gold (Certified Refurbished)', 'Apple iPhone 6s 16GB Unlocked GSM Smartphone - Silver (Certified Refurbished)', 'Apple iPhone 6s 16GB US Warranty Unlocked Cellphone -(Gold)', 'Apple iPhone 6S 32GB GSM Unlocked 4G LTE Cell Phone w/ 12MP Camera - Space Gray', 'Apple iPhone 6s 32GB Unlocked GSM 4G LTE Cell Phone w/ 12MP Camera - Rose Gold', 'Apple iPhone 6s 64 GB International Warranty Unlocked Cellphone - Retail Packaging (Gold)', 'Apple iPhone 6s 64 GB International Warranty Unlocked Cellphone - Retail Packaging (Silver)', 'Apple iPhone 6s 64 GB International Warranty Unlocked Cellphone - Retail Packaging (Space Gray)', 'Apple iPhone 6s 64 GB Rose Gold, AT&T', 'Apple iPhone 6s 64 GB US Warranty Unlocked Cellphone - Retail Packaging (Silver)', 'Apple iPhone 6s 64 GB US Warranty Unlocked Cellphone - Retail Packaging (Space Gray)', 'Apple iPhone 6s 64GB Rose Gold, Verizon Wireless', 'Apple iPhone 6s 64GB Unlocked GSM 4G LTE Smartphone - Space Gray (Certified Refurbished)', 'Apple iPhone 6s 64GB Unlocked GSM 4G LTE Smartphone w/12MP Camera - Gold (Certified Refurbished)', 'Apple iPhone 6s 64GB Unlocked GSM 4G LTE Smartphone w/12MP Camera - Silver (Certified Refurbished)', 'Apple iPhone 6s 64GB Unlocked GSM 4G LTE Smartphone w/12MP Camera - Space Gray (Certified Refurbished)', 'Apple iPhone 6s 64GB Unlocked GSM Cellphone w/ 12MP Camera - Silver', 'Apple iPhone 6s 64GB Unlocked GSM Smartphone - Rose Gold (Certified Refurbished)', 'Apple iPhone 6s 64GB Unlocked GSM Smartphone - Space Gray (Certified Refurbished)', 'Apple iPhone 6s a1688 16GB Gold Unlocked (Certified Refurbished)', 'Apple iPhone 6s a1688 16GB Rose Gold Unlocked (Certified Refurbished)', 'Apple iPhone 6s a1688 16GB Silver Unlocked (Certified Refurbished)', 'Apple iPhone 6s a1688 16GB Space Gray Unlocked (Certified Refurbished)', 'Apple iPhone 6S Factory Sealed Unlocked Phone, 16GB (Space Grey)', 'Apple iPhone 6S Factory Sealed Unlocked Phone, 64GB (Gold)', 'Apple iPhone 6s Plus 128 GB International Warranty Unlocked Cellphone - Retail Packaging (Gold)', 'Apple iPhone 6s Plus 128 GB International Warranty Unlocked Cellphone - Retail Packaging (Space Gray)', 'Apple iPhone 6s Plus 128 GB US Warranty Unlocked Cellphone - Retail Packaging (Rose Gold)', 'Apple iPhone 6S Plus 128GB Factory Unlocked LTE Smartphone - Space Gray [LATEST VERSION] (Certified Refurbished)', 'Apple iPhone 6s Plus 128GB Unlocked GSM 4G LTE Smartphone w/12MP Camera - Silver (Certified Refurbished)', 'Apple iPhone 6s Plus 16 GB International Warranty Unlocked Cellphone - Retail Packaging (Gold)', 'Apple iPhone 6s Plus 16 GB International Warranty Unlocked Cellphone - Retail Packaging (Rose Gold)', 'Apple iPhone 6s Plus 16 GB International Warranty Unlocked Cellphone - Retail Packaging (Silver)', 'Apple iPhone 6s Plus 16 GB International Warranty Unlocked Cellphone - Retail Packaging (Space Gray)', 'Apple iPhone 6s Plus 16GB Unlocked GSM 4G LTE Smartphone w/12MP Camera - Gold (Certified Refurbished)', 'Apple iPhone 6s Plus 16GB Unlocked GSM 4G LTE Smartphone w/12MP Camera - Gray (Certified Refurbished)', 'Apple iPhone 6s Plus 16GB Unlocked GSM 4G LTE Smartphone w/12MP Camera - Rose (Certified Refurbished)', 'Apple iPhone 6s Plus 16GB Unlocked GSM 4G LTE Smartphone w/12MP Camera - Silver (Certified Refurbished)', 'Apple iPhone 6s Plus 32GB Unlocked GSM Smartphone w/ 12MP Camera - Gold', 'Apple iPhone 6s Plus 32GB Unlocked GSM Smartphone w/ 12MP Camera - Rose Gold', 'Apple iPhone 6s Plus 32GB Unlocked GSM Smartphone w/ 12MP Camera - Space Gray', 'Apple iPhone 6s Plus 64 GB International Warranty Unlocked Cellphone - Retail Packaging (Gold)', 'Apple iPhone 6s Plus 64 GB International Warranty Unlocked Cellphone - Retail Packaging (Rose Gold)', 'Apple iPhone 6s Plus 64 GB Unlocked Cellphone, International Warranty (Space Gray)', 'Apple iPhone 6s Plus 64GB Unlocked GSM 4G LTE Smartphone w/12MP Camera - Gray (Certified Refurbished)', 'Apple iPhone 6s Plus a1687 16GB Gold Smartphone GSM Unlocked (Certified Refurbished)', 'Apple iPhone 6s Plus a1687 16GB Rose Gold Smartphone GSM Unlocked (Certified Refurbished)', 'Apple iPhone 6s Plus a1687 16GB Silver Smartphone Unlocked (Certified Refurbished)', 'Apple iPhone 6s Plus a1687 16GB Space Gray Smartphone GSM Unlocked (Certified Refurbished)', 'Apple iPhone 6s Plus Unlocked 128 GB Cellphone, International Warranty, Retail Packaging (Rose Gold)', 'Apple iPhone 6S Plus Unlocked Smartphone with 12 MP Camera, 16 GB (Gold)', 'Apple iPhone 6S Plus Unlocked Smartphone, 128 GB (Gold)', 'Apple iPhone 6S Plus Unlocked Smartphone, 16 GB (Gold)', 'Apple iPhone 6S Plus Unlocked Smartphone, 16 GB (Rose Gold)', 'Apple iPhone 6S Plus Unlocked Smartphone, 16 GB (Space Gray)', 'Apple iPhone 6S Plus Unlocked Smartphone, 32 GB (Gold)', 'Apple iPhone 6S Plus Unlocked Smartphone, 32 GB (Silver)', 'Apple iPhone 6S Plus Unlocked Smartphone, 32 GB (Space Gray)', 'Apple iPhone 6S Plus Unlocked Smartphone, 64 GB (Gold)', 'Apple iPhone 6S Plus Unlocked Smartphone, 64 GB (Rose Gold)', 'Apple iPhone 6S Plus Unlocked Smartphone, 64 GB (Silver)', 'Apple iPhone 6S Plus, 16GB Space Gray, AT&T', 'Apple iPhone 6S Plus, 64GB Space Gray, AT&T', 'Apple iPhone 6S, Rose Gold, 16GB, AT&T', 'Apple iPhone 7 Plus Unlocked Phone 128 GB - US Version (Gold)', 'Apple iPhone 7 Plus Unlocked Phone 128 GB - US Version (Rose Gold)', 'Apple iPhone 7 Plus Unlocked Phone 128 GB - US Version (Silver)', 'Apple iPhone 7 Plus Unlocked Phone 256 GB - US Version (Black)', 'Apple iPhone 7 Plus Unlocked Phone 256 GB - US Version (Gold)', 'Apple iPhone 7 Plus Unlocked Phone 256 GB - US Version (Jet Black)', 'Apple iPhone 7 Plus Unlocked Phone 256 GB - US Version (Rose Gold)', 'Apple iPhone 7 Plus Unlocked Phone 32 GB - US Version (Gold)', 'Apple iPhone 7 Plus Unlocked Phone 32 GB - US Version (Rose Gold)', 'Apple iPhone 7 Unlocked Phone 128 GB - US Version (Black)', 'Apple iPhone 7 Unlocked Phone 128 GB - US Version (Gold)', 'Apple iPhone 7 Unlocked Phone 128 GB - US Version (Rose Gold)', 'Apple iPhone 7 Unlocked Phone 128 GB - US Version (Silver)', 'Apple iPhone 7 Unlocked Phone 256 GB - US Version (Black)', 'Apple iPhone 7 Unlocked Phone 256 GB - US Version (Gold)', 'Apple iPhone 7 Unlocked Phone 256 GB - US Version (Jet Black)', 'Apple iPhone 7 Unlocked Phone 256 GB - US Version (Rose Gold)', 'Apple iPhone 7 Unlocked Phone 256 GB - US Version (Silver)', 'Apple iPhone 7 Unlocked Phone 32 GB - US Version (Black)', 'Apple iPhone 7 Unlocked Phone 32 GB - US Version (Gold)', 'Apple iPhone 7 Unlocked Phone 32 GB - US Version (Silver)', 'Apple iPhone SE 16GB Factory Unlocked LTE Smartphone - Champagne Gold (Certified Refurbished)', 'Apple iPhone SE 16GB Factory Unlocked LTE Smartphone - Rose Gold (Certified Refurbished)', 'Apple iPhone SE 16GB Factory Unlocked LTE Smartphone - Silver (Certified Refurbished)', 'Apple iPhone SE 64GB Factory Unlocked LTE Smartphone - Champagne Gold (Certified Refurbished)', 'Apple iPhone SE 64GB Factory Unlocked LTE Smartphone - Space Gray (Certified Refurbished)', 'Apple iPhone SE 64GB Unlocked GSM LTE Smartphone - Rose Gold (Certified Refurbished)', 'Apple iPhone SE Unlocked Phone - 64 GB Retail Packaging - Gold', 'Apple iPhone SE Unlocked Phone - 64 GB Retail Packaging - Rose Gold', 'Apple iPhone SE Unlocked Phone - 64 GB Retail Packaging - Silver', 'Apple iPhone SE Unlocked Phone -16 GB Retail Packaging - Gold', 'Apple iPhone SE Unlocked Phone -16 GB Retail Packaging - Rose Gold', 'Apple iPhone SE Unlocked Phone -16 GB Retail Packaging - Silver', 'Apple iPhone SE Unlocked Phone -16 GB Retail Packaging - Space Gray', 'Apple iPhone4S 16GB black - SIM unlocked', 'Apple MF259LL/A - iPhone 4s 8GB / 8MP Camera - Unlocked - Black (Certified Refurbished)', 'Apple Smart Watch Sport 38mm - Silver/White (Certified Refurbished)', 'Apple Smart Watch Sport 38mm - Stainless Steel/White (Certified Refurbished)', 'Apple Unlocked iPhone 6s LTE GSM Smartphone, 16 GB, International Warranty - Space Gray (Certified Refurbished)', 'Apple Watch (38MM) Stainless Steel Case with Milanese Loop', 'Apple Watch (42MM) Stainless Steel Case with Black Classic Buckle', 'Apple Watch 38mm Stainless Steel Case w/ Black Classic Buckle', 'Apple Watch 38mm Stainless Steel Case w/ Black Sport Band', 'Apple Watch 38mm Stainless Steel Case w/ White Sport Band', 'Apple Watch 42mm Stainless Steel Case w/ Black Classic Buckle', 'Apple Watch 42mm Stainless Steel Case with Black Sport Band', 'Apple Watch 42mm Stainless Steel Case with Milanese Loop', 'Apple Watch Sport 38mm Gold Aluminum with Antique White Sport Band (Certified Refurbished)', 'Apple Watch Sport 42mm Space Gray Aluminum Case with Black Band MJ3T2LL/A (Certified Refurbished)', 'Argom Tech E500 Unlocked Dual SIM Phone-White', 'ARROWS X F-02e Docomo Unloked Japan', 'Asus Padfone X, Black 16gb At&t (Phone and Pad At the Same Time) Smartphone', 'ASUS Zenfone 2 (ZE551ML) Android 5.0 Z3560 4GB RAM 32GB ROM Dual 4G Smartphone (Grey)', 'ASUS ZenFone 2 (ZE551ML) Unlocked Cellphone,5.5 inch 4GB RAM 32GB ROM Android 5.0 Smartphone.(Gray)', 'ASUS ZenFone 2 Deluxe Special Edition, Unlocked Cellphone, 4GB RAM, 128GB (U.S. Warranty) (Discontinued by Manufacturer)', 'ASUS ZenFone 2 Laser Unlocked Smartphone, 3GB RAM, 16GB Storage', 'ASUS ZenFone 2 Laser Unlocked Smartphone, 3GB RAM, 32GB Storage', 'ASUS ZenFone 2 Laser ZE500KL 16GB 5-inch Dual-SIM LTE FACTORY UNLOCKED International Stock No Warranty (GOLD)', 'Asus ZenFone 2 Laser ZE500KL 16GB Gold, 5\", Android OS, Unlocked International Stock, No Warranty', 'Asus Zenfone 2 Laser ZE500KL 16GB Silver, Dual SIM, Unlocked GSM International Version, No Warranty', 'Asus ZenFone 2 Laser ZE500KL 5-Inch 4G LTE 16GB Android OS Unlocked - International Stock No Warranty (Red)', 'ASUS ZenFone 2 Laser ZE550KL 2GB/16GB 5.5-inch 4G LTE Dual SIM Factory Unlocked International Stock No Warranty (Red)', 'ASUS ZenFone 2 Unlocked Cellphone , 64GB, Silver (U.S. Warranty)', 'ASUS ZenFone 2 Unlocked Cellphone, 16GB, Black', 'ASUS ZenFone 2 Unlocked Cellphone, 16GB, Illusion White (U.S. Warranty) Factory Unlocked Phone - Retail Packaging (Illusion White)', 'ASUS ZenFone 2 Unlocked Cellphone, 64GB, Black (U.S. Warranty)', 'ASUS ZenFone 2 Unlocked Cellphone, 64GB, Gold (U.S. Warranty) (Discontinued by Manufacturer)', 'ASUS ZenFone 2 Unlocked Cellphone, 64GB, Red (U.S. Warranty)', 'ASUS ZenFone 2 ZE500CL 4G LTE Single-SIM Factory Unlocked International Stock No Warranty (2GB RAM/16GB ROM | GLAMOR RED) - International Version No Warranty', 'ASUS ZenFone 2 ZE550ML 4G LTE Factory Unlocked (Dual-SIM | 2GB RAM/16GB ROM | OSMIUM BLACK) - International Version No Warranty', 'ASUS ZenFone 2 ZE550ML 4G LTE Factory Unlocked International Stock No Warranty (Dual-SIM | 2GB RAM/16GB ROM | CERAMIC WHITE) - International Version No Warranty', 'ASUS ZenFone 2 ZE551ML Dual SIM Factory Unlocked 4GB / 32GB 5.5-inch 4G LTE - International Stock No Warranty', 'ASUS ZenFone 2 ZE551ML Dual SIM Factory Unlocked 4GB / 32GB 5.5-inch 4G LTE - International Stock No Warranty (Gold)', 'Asus Zenfone 2 Ze551ml Red (32gb, 4gb Ram) Unlocked Factory Dual Micro Sim Card', 'Asus Zenfone 2E Z00D 8GB Unlocked GSM 5\" IPS Display Smartphone w/ 8MP Camera - White/Black', 'ASUS ZenFone 3 Deluxe 5.5-inch 4GB RAM, 64GB storage Unlocked Dual SIM Cell Phone, US Warranty (ZS550KL-Glacier Silver)', 'ASUS ZenFone 3 Laser 5.5\" 2GB RAM 32GB storage, Dual SIM - Factory Unlocked Phone - Glacier Silver', 'ASUS ZenFone 3 MAX 5.2-inch (2GB RAM, 16GB storage, 4100mAh), US Warranty Glacier Silver (ZC520TL)', 'Asus Zenfone 3 ZE520KL 4G 32GB Gold(3GB Ram) International Version No Warranty', 'Asus ZenFone 3 ZE520KL Unlocked Dual Sim Phone, 32GB, 5.2-inch, 3GB RAM, No Warranty - International Version (Moonlight White)', 'Asus ZenFone 3 ZE520KL Unlocked Dual Sim Phone, 32GB, 5.2-inch, 3GB RAM, No Warranty - International Version (Sapphire Black)', 'ASUS ZenFone 3 ZE552KL 4GB / 64GB 5.5-inch 4G LTE Dual SIM FACTORY UNLOCKED - International Stock No Warranty (SHIMMER GOLD)', 'Asus ZenFone 3 ZE552KL 64GB Moonlight White, Dual Sim, 4GB, 5.5-inch, Unlocked International Model, No Warranty', 'Asus ZenFone 3 ZE552KL 64GB Sapphire Black, Dual Sim, 4GB, 5.5-inch, Unlocked International Model, No Warranty', 'ASUS Zenfone 6 16GB Dual SIM (Unlocked) A600CG 3G 6-inches Intel Z2580 2G RAM White - International Version No Warranty', 'ASUS ZENFONE 6 A601CG 6\" Android 4.3 16GB Dual-SIM Smartphone (Black) - International Version No Warranty', 'ASUS ZenFone Go ZC500TG 16GB 5 Inch 8 MP Dual SIM Factory Unlocked - International Stock No Warranty (BLACK)', 'Asus Zenfone Max ZC550KL 16GB White International Version No Warranty', 'Asus ZenFone Selfie ZD551KL 32GB Blue, 5.5\", 3GB RAM, Unlocked International Model, No Warranty', 'Asus ZenFone Selfie ZD551KL 5.5\" 3GB/32GB 4G LTE - International Stock No Warranty (Pink)', 'ASUS ZenFone Zoom Unlocked Cellphone, 64GB, Black (U.S. Warranty)', 'ASUS ZenFone Zoom Unlocked Cellphone, 64GB, Black (U.S. Warranty) with ASUS External Battery Pack for Zenfone2 - Carrier Packaging - Gold', 'ASUS ZenFone2 Unlocked Smartphone, 16GB, 4GB RAM, Black - ZE551ML (U.S. Warranty)', 'At&t Blackberry Bold 9900', 'AT&T LG CU405 No Contract Push To Talk Quad Band GSM Global Cell Phone Black', 'AT&T LG Neon GT365BLS QWERTY Camera Phone', 'AT&T Motorola RAZR V3 No Contract Quad Band GSM Camera Cell Phone Pink', 'AT&T Motorola RAZR V3xx No Contract Cell Phone 3G', 'AT&T Palm Pixi Plus No Contract Cell Phone 3G Smartphone', 'AT&T Pantech Ease P2020 No Contract GSM Cell Phone', 'AT&T R225 Prepaid GoPhone', 'AT&T Wireless 3G / 4G / LTE Micro SIM Card - Postpaid /Go Phone Prepaid - SKU 4681B Softcard SIM', 'AT&T ZTE Z222 Unlocked - Blue', 'Atoah® 7 Inch Unlocked Dual Sim Card Phone Tablet Unlocked Gsm, Dual Sim Card Slot, 2g/3g Phablet (gold)', 'Atoah® 7 Inch Unlocked Dual Sim Card Phone Tablet Unlocked Gsm, Dual Sim Card Slot, 2g/3g Phablet (red)', 'Atoah® 7 Inch Unlocked Dual Sim Card Phone Tablet Unlocked Gsm, Dual Sim Card Slot, 2g/3g Phablet (white)', \"'ATT Wireless LG CU720 Shine for in Red'\", 'Bb-storm-9530-pb-r', 'Big Button Senior Cell-Phone Unlocked Dual-Sim GSM Quad Band with FM Radio, Flashlight and SOS Emergency Button for Elderly and Kids', 'Black Flip Case for iDROID Tango A5', 'BLACK Samsung Galaxy S II Epic 4G Touch SPH-D710 - BLACK (Sprint) Smartphone. CLEAN ESN!', 'BlackBerry 12600mAh Portable Charger External Battery Power Bank for BlackBerry Priv, BlackBerry Passport, BlackBerry Classic, Blackberry Q10, Z10 (OEM, ACC-62799-001)', 'BlackBerry 7290 GSM Phone (Unlocked)', 'Blackberry 8110 Pearl GSM Unlocked Phone', 'Blackberry 8110 Pearl Unlocked Phone (Black)', 'BlackBerry 8220 Flip Pearl Unlocked Phone with GPRS, EDGE and 2 MP Camera - US Warranty - Pink', 'Blackberry 8310', 'BLACKBERRY 8310 Unlocked GSM PDA Cell Phone (Silver)', 'BlackBerry 8320 Unlocked Phone with QWERTY Keyboard, Wifi, 2MP Camera and Stereo Bluetooth - US Warranty - Dark Blue', 'BlackBerry 8350i Curve for Nextel (Black) Sprint - QWERTY - Wi-Fi - No Contract Required -', 'Blackberry 8350i Curve Nextel Boost Mobile Pda Cell Phone', 'Blackberry 8520 Curve Unlocked Phone with 2 MP Digital Camera, QWERTY Keyboard, Trackpad Navigation, Bluetooth Enabled with Stereo Profile - US Warranty - Purple', 'BlackBerry 8520 Unlocked Phone with 2 MP Camera, Bluetooth, Wi-Fi--International Version with No Warranty (Black)', 'BlackBerry 8520OEMRED Gemini 8520 Unlocked Phone with 2 MP Camera, Bluetooth, Wi-Fi--International Version (Red)', 'BlackBerry 8530 Prepaid Phone (Virgin Mobile)', 'BlackBerry 8530 Verizon CDMA BlackBerry OS 5.0 Cell Phone - Black', 'BlackBerry 8700c GSM Unlocked Cell Phone', 'BlackBerry 8700C Qwerty Unlocked SmartPhone (Silver)--International Version With No Warranty', 'Blackberry 8707 Unlocked Phone with 3G, Quad-Band GSM and Full Qwerty Keyboard--International Version with No Warranty', 'BlackBerry 8800 - Smartphone - GSM - QWERTY - BlackBerry OS AT & T', 'BlackBerry 8800 Unlocked Phone with Quad Band, Bluetooth, Music Player, Card Slot, Full Qwerty KeyBoard--US Version with No Warranty (Black)', 'Blackberry 8830 World Edition Mobile Phone - Silver', 'Blackberry 9100 Pearl 3G Unlocked Phone with 3 MP Camera, Wi-Fi, Bluetooth, Optical Trackpad and GPS No Warranty Black', 'Blackberry 9220 Curve Unlocked GSM Quad-Band Smartphone with Wi-Fi, 2MP Camera and 7.1 Blackberry OS International Version/Warranty - Black', 'Blackberry 9320 Curve Unlocked GSM Quad-Band Smartphone with 3.2 MP Camera, Wi-Fi, GPS and 7.1 Blackberry OS - No Warranty - Black', 'Blackberry 9530 Storm', 'Blackberry 9530 Storm Unlocked For Any GSM Carrier Worldwide', 'Blackberry 9650 Bold Unlocked GSM Smartphone with 3 MP Camera, Bluetooth, 3G, Wi-Fi, and MicroSd Slot (Black)', 'BlackBerry 9720 Samoa Black Factory Unlocked OS 7.1', 'BlackBerry 9780 Bold locked Smartphone with 5 MP Camera, Bluetooth, 3G, Wi-Fi, and MicroSd Slot --T-Mobile Version with no Warranty (white)', 'BlackBerry 9780 Bold Unlocked Smartphone with 5 MP Camera, Bluetooth, 3G, Wi-Fi, and MicroSd Slot (White)', 'BlackBerry Bold 9000 Unlocked Phone with 2 MP Camera, 3G, Wi-Fi, GPS Navigation, and MicroSD Slot--International Version with No Warranty (Black)', 'BlackBerry Bold 9700', 'BlackBerry BOLD 9700 Smart Unlocked Phone, Quad Band, 3 MP Camera, Bluetooth, GPS, and 1 GB Internal Storage - No Warranty', 'BlackBerry Bold 9700 Unlocked GSM 3G World Phone w/ Full Keyboard - Black', 'BlackBerry Bold 9780 Black WiFi Unlocked QuadBand 3G Cell Phone', 'BlackBerry Bold 9780 Unlocked Cell Phone with Full QWERTY Keyboard, 5 MP Camera, Wi-Fi, 3G, Music/Video Playback, Bluetooth v2.1, and GPS (Black)', 'BlackBerry Bold 9790 GSM Unlocked Cell Phone in Black', 'BlackBerry Bold 9790 GSM Unlocked Phone', 'BlackBerry Bold 9790 GSM Unlocked Phone, Black', 'BlackBerry Bold 9900 4G - T-Mobile', 'BlackBerry Bold 9900 GSM Factory Unlocked Phone - No Warranty (Black)', 'BlackBerry Bold 9900 GSM Unlocked Touch Screen QWERTY Keypad Phone - White', 'BlackBerry Bold 9900 No Contract 4G GSM 5MP HD Global Smartphone - AT&T Wireless', 'Blackberry Bold Touch 9930 CDMA GSM Unlocked Phone with Touch Screen, 5MP Camera and Blackberry OS 7 (Black)', 'Blackberry Bold Touch 9930 Unlocked GSM Phone with OS 7, Touchscreen, QWERTY Keyboard, 5MP Camera, Video, GPS, Wi-Fi, Bluetooth, NFC and microSD Slot - Black', 'BlackBerry Classic Factory Unlocked Cellphone, Black', 'BlackBerry Classic Q20 SQC100-1 GSM Unlocked 16GB 3.5\" 8MP 4G LTE Smartphone - Black - International Version No Warranty', 'BLACKBERRY CLASSIC RHH151LW 16GB SQC100-1 BLUE QWERTY UK FACTORY UNLOCKED 4G/LTE CELL PHONE - International Version No Warranty', 'BlackBerry Classic SQC100-4 16GB Unlocked GSM 4G LTE Keyboard Smartphone w/ 8MP Camera - Black', 'BlackBerry Curve 3G 9300 Black WiFi Unlocked QuadBand Cell Phone', 'Blackberry Curve 3G 9300 Unlocked GSM Phone with 2MP Camera, GPS and Wi-Fi - Blue', 'BlackBerry Curve 3G 9330 2 megapixel camera with video capture, GPS, Wi-Fi for Verizon,Silver/Black', 'BlackBerry Curve 3G 9360 Black Qwerty', 'Blackberry Curve 8300 GSM Unlocked Phone with 2MP Camera, MicroSD Slot, GPRS/EDGE, QWERTY keyboard, Bluetooth--U.S. Version (Silver)', 'Blackberry Curve 8310', 'BlackBerry Curve 8310 GSM - Unlocked', 'BlackBerry Curve 8310 Phone, Red (AT&T)', 'BLACKBERRY CURVE 8310 TITANIUM UNLOCKED CELL PHONE', 'Blackberry Curve 8310 Unlocked Cell Phone', 'Blackberry Curve 8310 Unlocked Phone with 2MP Camera, QWERTY Keyboard and GPS - No Warranty - Pink', 'Blackberry Curve 8310 Unlocked Phone with Bluetooth, 2MP Camera and GPS', 'Blackberry Curve 8310 Unlocked Phone with GPS, 2MP Camera and Bluetooth', 'Blackberry Curve 8320 Unlocked GSM Quad-Band Cell Phone - Titanium', 'BlackBerry Curve 8330 - Smartphone - CDMA2000 1X - QWERTY - BlackBerry OS - Boost Mobile', 'BlackBerry Curve 8330 for Verizon Wireless (Silver) Cell Phone - No Contract Required', 'BlackBerry Curve 8330 Smartphone - Verizon or Page Plus', 'BlackBerry Curve 8330 Smartphone, Silver (Verizon Wireless)\\xa0', 'Blackberry Curve 8520 Gemini SmartPhone Unlocked with 2 MP Camera, Bluetooth, Wi-Fi, E-mail-- International Version with No Warranty (Frost Blue)', 'Blackberry Curve 8520 Unlocked Quad-Band GSM Phone with 2MP Camera, QWERTY Keyboard, Wi-Fi and Bluetooth - Lavender', 'Blackberry Curve 8520 Unlocked Quad-Band GSM Phone with 2MP Camera, QWERTY Keyboard, Wi-Fi and Bluetooth - Sky Blue', 'Blackberry Curve 8520 Unlocked Quad-Band GSM Phone with 2MP Camera, QWERTY Keyboard, Wi-Fi and Bluetooth - US Warranty - Opal Pink', 'Blackberry Curve 8520 White T-mobile Unlocked Phone', 'BlackBerry Curve 8530 Purple Sprint Smart Phone', 'BlackBerry Curve 8530 Smartphone (Black) for Alltel Wireless Network with No Contract (Good Condition)', 'BlackBerry Curve 8900 Javelin Unlocked Phone with 3.2 MP Camera, gps navigation-International Version with NO US Warranty (Black)', 'Blackberry Curve 9220 White WiFi Keyboard Unlocked QuadBand Cell Phone', 'BlackBerry Curve 9300 3G Unlocked GSM Smartphone w/ 2MP Camera - Red', 'Blackberry Curve 9320 Curve Unlocked GSM Phone with OS 7.1, Wi-Fi 3.2MP Camera and GPS - Black', 'Blackberry Curve 9320 Unlocked GSM OS 7.1 Smartphone - Black', 'Blackberry Curve 9320 White WiFi Keyboard Unlocked QuadBand', 'Blackberry Curve 9330 3G SPRINT', 'Blackberry Curve 9330 3G SPRINT (Purple)', 'Blackberry Curve 9350 Sprint CDMA Phone with OS 7, 5MP Camera, GPS, Wi-Fi and Bluetooth - Black', 'Blackberry Curve 9360 Pink WiFi GSM QuadBand 3G Bar Cell Phone', 'Blackberry Curve 9360 Unlocked Quad-Band 3G GSM Phone with 5MP Camera, QWERTY Keyboard, GPS and Wi-Fi - No Warranty - Black', 'Blackberry Curve 9360W Unlocked Cellphone - No Warranty - White', 'Blackberry Curve 9370 Unlocked Phone Unlocked GSM with OS 7, 5MP Camera, GPS and Wi-Fi - Black', 'BlackBerry Curve 9380 Unlocked GSM Phone with OS 7, Touchscreen, GPS and 5MP Camera + Video Recording - Black', 'BlackBerry Curve 9380 Unlocked GSM Phone with Touchscreen and 5 MP Camera--No Warranty (Black)', 'BlackBerry Curve Gemini 8520 Unlocked Phone with 2MP Camera, Bluetooth and Wi-Fi - Pink', 'BlackBerry DTEK50 - Unlocked Phone - Carbon Grey (U.S. Warranty)', 'Blackberry Gemini 8520 Fuchsia Unlocked Cell Phone with 2 MP Camera, Bluetooth, Wi-Fi--International Version with No Warranty (Fuchsia )', 'Blackberry Gemini 8520 White Unlocked Cell Phone with 2 MP Camera, Bluetooth, Wi-Fi--International Version with No Warranty (White)', 'BlackBerry Leap 16GB Factory Unlocked GSM 4G LTE Smartphone - Shadow Grey', 'BlackBerry Leap STR100-2 Unlocked Phone - Retail Packaging - White', 'BlackBerry Leap Unlocked Cellphone, Shadow Grey', \"BlackBerry P'9983 Porsche Design 64GB - Factory Unlocked - International Version No Warranty - Carbon Fiber\", \"BlackBerry P'9983 Unlocked Phone BlackBerry 10 OS - Retail Packaging - Grey/Graphite\", 'BlackBerry Passport - Factory Unlocked Smartphone - White (U.S. Warranty)', 'BlackBerry Passport 32GB Factory Unlocked (SQW100-1) GSM 4G LTE Smartphone - Black', 'BlackBerry Passport Factory Unlocked Cellphone, 32GB, Black', 'BlackBerry Passport Factory Unlocked Cellphone, Red (Discontinued by Manufacturer)', 'BlackBerry Passport SQW100-4 Silver Edition Unlocked 32GB International Stock No Warranty - Silver', 'BlackBerry Passport Unlocked Phone - Retail Packaging - Silver', 'BlackBerry Pearl 8100 (Red) Unlocked', 'BlackBerry Pearl 8100 Smartphone AT&T Unlocked', 'BlackBerry Pearl 8110 Unlocked Phone with 2 MP Camera, GPS, MicroSD Slot, and Digital Media Player--International Version with No Warranty (Titanium)', 'Blackberry Pearl 8110 Unlocked Phone with 2MP Camera, GPS, MicroSD Slot and Digital Media Player-Unlocked Phone-US Warranty-Red', 'Blackberry Pearl 8120 WHT GSM Unlocked Phone with Wi-Fi and 2MP Camera--U.S. Version with Warranty (White)', 'Blackberry Pearl 8130 3g Cdma Smartphone Verizon Pink. (Works with Only Verizon Wireless)', 'Blackberry Pearl 8130 Sprint Phone with 3.5mm Stereo Jack, Stereo Bluetooth and 3G (Phone Only, No Service) [Blue]', 'Blackberry Pearl 9100 GSM Phone with 3G Support, 3.2MP Camera, GPS and Wi-Fi--International Version with No US Warranty-Black', 'Blackberry Pearl 9100 Unlocked GSM Phone with 3G, QWERTY Keyboard, Touch-Sensitive Optical Trackpad, 3.2MP Camera, GPS, Wi-Fi, Bluetooth, MP3/MP4 Player and microSD Slot - Pink', 'Blackberry Pearl Flip 8220 GSM Cell Phone', \"Blackberry Porsche Design P'9982 64gb Factory Unlocked in Silver / Dark Platinum P9982 Luxury Mobile Smart Phone Genuine (4g Lte 1800/2600/900/800) - International Version No Warranty\", \"BLACKBERRY PORSCHE DESIGN P'9983 GRAPHITE 64GB FACTORY UNLOCKED 4G/LTE no warranty\", 'BlackBerry PRD-30903-011 RIM 9105 Pearl 3G Unlocked GSM Smartphone with 3MP Camera, WiFi, GPS - No Warranty - Black', 'BlackBerry PRD-42113-004 Unlocked Porsche Design Mobile Phone, Qwerty English Keypad (Dark Platinum)', 'Blackberry PRIV Factory Unlocked GSM Slider Android Phone - International Version (Black)', 'BlackBerry Priv STV100-1 32GB 4G LTE Unlocked Slider Android Smartphone - Black', 'BLACKBERRY Q10 16GB BLACK QWERTY KEYBOARD TOUCH FACTORY UNLOCKED MODEL NO : RFN81UW (2G & 3G 800/850/900/1900/2100 & 4G LTE 800/900/1800/2600)', 'Blackberry Q10 SQN100-1 16GB 4G LTE Unlocked GSM Dual-Core OS 10 Smartphone - Black', 'Blackberry Q10 SQN100-1 16GB Unlocked GSM Dual-Core Smartphone w/ 4G LTE also in USA - White', 'BlackBerry Q10 SQN100-2 16GB Unlocked GSM 4G LTE Smartphone w/ 8MP Camera - Black', 'Blackberry Q10 SQN100-3 16GB 4G LTE Unlocked GSM OS 10 Phone - White/Gold', 'Blackberry Q10 SQN100-3 16GB Factory Unlocked GSM Smartphone w/ English + Arabic Keypad - White', 'Blackberry Q10 Unlocked Cellphone, 16GB, White', 'Blackberry Q5 Black Unlocked', 'Blackberry Q5 SQR100-1 Unlocked GSM 4G LTE Dual-Core Keyboard Phone - White', 'Blackberry Q5 SQR100-2 8GB Unlocked GSM 4G LTE Dual-Core OS 10.2 Smartphone - Red', 'Blackberry Q5 SQR100-3 8GB Unlocked GSM Dual-Core OS 10.2 Cell Phone - Black', 'Blackberry Q5 SQR100-3 Unlocked - White - International Version No Warranty', 'BlackBerry Q5 Unlocked GSM 4G LTE - Pink no warranty', 'BlackBerry RCK71CW 9550 Unlocked Phone with Wi-Fi, Touch Screen, 3.2MP Camera and GPS - Unlocked Phone - US Warranty - Black', 'BlackBerry Storm 2 9550 Unlocked Phone - No Warranty', 'Blackberry Storm 2 9550 Unlocked Touchscreen Phone. US version with Warranty', 'BlackBerry Storm 9500 Unlocked Phone with 3.15 MP Camera (Black)', 'Blackberry Storm with 3.2 Megapixel-Camera - Touch Screen - Blue-tooth Capable - (Black) 1XEVDO CDMA 2000 for Verizon Network', 'BlackBerry STV100-1 Unlocked GSM Quad-Core Smartphone with 18MP Camera - Black', 'Blackberry Style 9670 Smartphone - Sprint', 'Blackberry Torch 2 9810 Unlocked Phone with 1.2GHz Processor, GPS, 5 MP Camera and HD Video - Unlocked Phone - No Warranty - Grey', 'BlackBerry Torch 9800 Unlocked GSM Slider Cell Phone w/ Keyboard + Touchscreen and Optical Trackpad - Red', 'BlackBerry Torch 9800 Unlocked GSM Slider Cell Phone w/ Keyboard + Touchscreen and Optical Trackpad - White', 'Blackberry Torch 9800 Unlocked Phone with 5 MP Camera, Full QWERTY Keyboard and 4 GB Internal Storage - Unlocked Phone - No Warranty - Black', 'Blackberry Torch 9810 8GB Unlocked GSM 4G HSPA+ OS 7.0 Slider Phone - Zinc Grey', 'BlackBerry Torch 9810 Unlocked 3G GSM Phone with 3.2-Inch Touch Screen, QWERTY Keypad, Wi-Fi, Bluetooth and GPS - US Warranty - Gray', 'Blackberry Torch 9810 Unlocked GSM HSPA+ OS 7.0 Slider Cell Phone - White', 'BlackBerry Torch 9810 Unlocked GSM HSPA+ OS 7.0 Slider Cell Phone - White', 'Blackberry Torch 9810 Unlocked GSM HSPA+ OS 7.0 Slider Phone - Zinc Grey', 'Blackberry Torch 9810 Unlocked GSM Phone with OS 7.0, Touchscreen, Slider-QWERTY Keboard, Optical Trackpad, 5MP Camera, Video, GPS, Wi-Fi, Bluetooth and microSD Slot - Silver', 'BlackBerry Torch 9810 Unlocked GSM Touchscreen Smartphone - White', 'BlackBerry Torch 9810 White WiFi Unlocked GSM QuadBand 3G Cell Phone', 'Blackberry Torch 9850 GSM + CDMA Verizon Cell Phone - Black', 'BlackBerry Torch 9860 RDQ71UW Unlocked Smartphone with 3G, BlackBerry OS 7, 5 MP Camera, and 4 GB Internal Memory--No Warranty (Grey)', 'BlackBerry Torch 9860 Unlocked 3G GSM Phone with 3.7-Inch Touch Screen, 5MP Camera, Wi-Fi, Bluetooth and GPS - US Warranty - Black', 'Blackberry Tour 9630 GSM Unlocked Cell Phone with 3.2 MP Camera and GPS - Unlocked Phone - No Warranty - Black', 'BlackBerry Tour 9630 No Contract Verizon Cell Phone', 'Blackberry Verizon 9650 Bold CDMA Phone', 'Blackberry Z10 16GB OS 10 GSM Unlocked Smartphone - Black', 'Blackberry Z10 STL100-1 16GB Unlocked GSM OS 10 Smartphone - Black', 'Blackberry Z10 STL100-1 16GB Unlocked GSM OS 10 Smartphone - White', 'Blackberry Z10 STL100-3 16GB 4G LTE Unlocked GSM Dual-Core OS 10 Smartphone - Black', 'BlackBerry Z3 8GB Factory Unlocked Touchscreen, 5MP Camera, Long-Lasting Battery Smartphone - Black', 'BlackBerry Z30 Factory Unlocked Black - 16GB', 'Blackberry Z30 STA100-5 16GB Unlocked GSM 4G LTE OS 10.2 Cell Phone - Pure White', 'Blackberry Z30 Unlocked Cellphone, 16GB, Black', 'Blackview A8 5.0 Inch Android 5.1 Smartphone, MT6580A Quad Core 1.3GHz, 1GB RAM + 8GB ROM GSM & WCDMA (Grey)', 'Blackview A8 5.0 Inch Android 5.1 Smartphone, MT6580A Quad Core 1.3GHz, 1GB RAM + 8GB ROM GSM & WCDMA (Pearl White)', 'Blackview Alife P1 PRO Mtk6735p 1.0ghz Quad Core 5.5 Inch Hd Screen Android 5.1 4g LTE Smartphone (Black)', 'Blackview Alife P1 PRO Mtk6735p 1.0ghz Quad Core 5.5 Inch Hd Screen Android 5.1 4g LTE Smartphone (White)', 'Blackview BV5000 5.0 Inch Android 5.1 Waterproof / Shockproof / Dustproof Unlocked Smartphone, MTK6735P Quad Core 1.0GHz, 2GB RAM + 16GB ROM GSM & WCDMA & FDD-LTE (Black)', 'Blackview BV5000 5.0 Inch Android 5.1 Waterproof / Shockproof / Dustproof Unlocked Smartphone, MTK6735P Quad Core 1.0GHz, 2GB RAM + 16GB ROM GSM & WCDMA & FDD-LTE (Green)', 'Blackview BV5000 5.0 Inch Android 5.1 Waterproof / Shockproof / Dustproof Unlocked Smartphone, MTK6735P Quad Core 1.0GHz, 2GB RAM + 16GB ROM GSM & WCDMA & FDD-LTE (Orange)', 'Blackview BV5000 5.0-Inch Android 5.1 Lollipop Unlocked Smartphone with MTK6735P Quad Core 1.0GHz 2GB RAM 16GB ROM GSM, WCDMA and FDD-LTE (Orange)', 'Blackview BV5000 Dual SIM Unlocked Smartphone - Black', 'Blackview BV6000 4.7 Inch Android 6.0 Smartphone, MT6755 Octa-core 2.0GHz, 3GB RAM + 32GB ROM GSM & WCDMA & FDD-LTE (Green)', 'Blackview BV6000 4.7 Inch Android 6.0 Smartphone, MT6755 Octa-core 2.0GHz, 3GB RAM + 32GB ROM GSM & WCDMA & FDD-LTE (Yellow)', 'Blackview BV6000 Waterproof Smartphone IP68 Gorilla Glass 3 Shockproof Dustproof Android 6.0 3GB RAM 32GB ROM 4.7 Inches Outdoor Mobile Cell Phone Green', 'Blackview BV6000S Smartphone Android 6.0 Waterproof IP68 4.7\" HD MT6735 Quad Core 2GB RAM 16GB ROM Cell Phone (Black)', 'Blackview BV6000S Smartphone Android 6.0 Waterproof IP68 4.7\" HD MT6735 Quad Core 2GB RAM 16GB ROM Cell Phone (Green)', 'Blackview BV6000S Smartphone Android 6.0 Waterproof IP68 4.7\" HD MT6735 Quad Core 2GB RAM 16GB ROM Cell Phone (Yellow)', 'Blackview Crown Android 4.4.2 KitKat Octacore 1.7GHz, 5-Inch - Unlocked', 'Blackview JK450 Android 4.2.2 Quadcore 1.3GHz, 4.5-Inch - Unlocked (Black)', 'Blackview JK606 Android 4.2 Dualcore 1.3Ghz Dual SIM, 5-Inch - Unlocked (Black)', 'Blackview Omega Pro 5 inch HD IPS Screen Android 5.1 Smartphone, MTK6753 Octa Core 1.5GHz, RAM:3GB ROM:16GB,Dual SIM (Black)', 'Blackview Omega Pro 5 inch HD IPS Screen Android 5.1 Smartphone, MTK6753 Octa Core 1.5GHz, RAM:3GB ROM:16GB,Dual SIM (White)', 'Blackview Ultra A6 Phone MTK6582 Quad Core 1GB 8GB 4.7 Inch Back Touch (Black)', 'Blackview Ultra A6 Phone MTK6582 Quad Core 1GB 8GB 4.7 Inch Back Touch (Gold)', 'Blackview V3 Android 4.4 KitKat Quadcore 1.3GHz, 5-Inch - Unlocked (Black)', 'BLU Advance 4.0- Includes One Month Free Service with Simple Mobile - Unlimited Talk and Text with 1GB of 4G Data ($40 value)-Black', 'BLU Advance 4.0 L A010 Dummy Display Phone - Black', 'BLU Advance 4.0 Unlocked Cellphone, Black', 'BLU Advance 4.0L Unlocked Smartphone -Global GSM - Blue', 'BLU Advance 4.0L Unlocked Smartphone -Global GSM - Orange', 'BLU Advance 4.0L Unlocked Smartphone -Global GSM - Pink', 'BLU Advance 4.0L Unlocked Smartphone -US GSM - Black', 'BLU Advance 4.0L Unlocked Smartphone -US GSM - Green', 'BLU Advance 4.0L Unlocked Smartphone -US GSM - Orange', 'BLU Advance 4.0L Unlocked Smartphone -US GSM - Pink', 'BLU Advance 4.0L Unlocked Smartphone -US GSM - White', 'BLU Advance 5.0 - Unlocked Dual Sim Smartphone - US GSM - Black', 'BLU Advance 5.0 - Unlocked Dual Sim Smartphone - US GSM - White', 'BLU Advance 5.0 HD -Unlocked Dual Sim Smartphone - US GSM - Rose Gold', 'BLU Advance 5.0 HD Unlocked Dual Sim Smartphone US GSM (Grey)', 'BLU Advance 5.5 HD -Unlocked Dual Sim Smartphone - US GSM - Gold', 'BLU Advance 5.5 HD -Unlocked Dual Sim Smartphone - US GSM - Grey', 'BLU Aria II T179 Unlocked GSM Dual-SIM Cell Phone - Blue', 'BLU D430b Elite 3.8 Unlocked Quad-Band Dual SIM 3G Phone with Android 2.3, 3D Gaming, Wi-Fi, Bluetooth and 5MP Camera - No Warranty - White', 'BLU Dash 3.5 II D352L Unlocked GSM Dual-SIM 4G HSPA+ Android Smartphone - White', 'BLU Dash 3.5 II D352L Unlocked GSM Dual-SIM 4G HSPA+ Android Smartphone - Yellow', 'BLU Dash 3.5 II D352u Unlocked GSM Dual-SIM 4G HSPA+ Android Smartphone - Orange', 'BLU Dash 3.5 II D352u Unlocked GSM Dual-SIM 4G HSPA+ Android Smartphone - Pink', 'BLU Dash 4.0 D270a Unlocked Dual SIM Phone with Dual-Core 1GHz Processor, Android 4.0 ICS, 3G HSPA, and High Res LCD Screen - U.S. Warranty (Black)', 'BLU Dash 5.0 D410a Unlocked Dual SIM GSM Phone (Black)', 'BLU Dash 5.5 - Unlocked Cell Phones - Retail Packaging - Grey', 'BLU Dash 5.5 - Unlocked Cell Phones - Retail Packaging - Yellow', 'BLU Dash 5.5 Smartphone - Unlocked - Retail Packaging - (Pink)', 'BLU Dash 5.5 Smartphone - Unlocked - Retail Packaging - (Yellow)', 'Blu Dash 5.5 Unlocked (Grey)', 'Blu Dash 5.5 Unlocked (White)', 'BLU Dash 5.5-US GSM - Unlocked (Blue)', 'BLU Dash 5.5-US GSM - Unlocked (Orange)', 'BLU Dash C Music-Global GSM - Unlocked Cell Phone (Yellow)', 'BLU Dash C Music-US GSM - Unlocked Cell Phone (White/Gold)', 'BLU Dash C Music-US GSM - Unlocked Cell Phone (Yellow)', 'BLU Dash J Unlocked Phone - Retail Packaging - Black', 'BLU Dash J Unlocked Phone - Retail Packaging - Green', 'BLU Dash J Unlocked Phone - Retail Packaging - Pink', 'BLU Dash J Unlocked Phone - Retail Packaging - White', 'BLU Dash Jr 3G Unlocked Phone - Retail Packaging - White', 'BLU Dash Jr 3G Unlocked Phone - Retail Packaging - White/Snowy White', 'BLU Dash JR 4.0 D142 Unlocked Dual Sim Phone - Blue', 'BLU Dash JR 4.0 K Smartphone - Unlocked - Blue', 'BLU Dash JR 4.0 K Smartphone - Unlocked - Silver', 'BLU Dash JR 4.0 K Smartphone - Unlocked - White', 'BLU Dash JR 4.0K Android 4.2, 2MP - Unlocked (Silver)', 'BLU Dash JR D140 Unlocked Dual Sim Phone (Yellow)', 'Blu Dash JR D141W Dual Sim Factory Unlocked Android Smartphone', 'BLU Dash JR TV D141T Unlocked GSM Dual-SIM Android Cell Phone - Gold', 'BLU Dash JR TV D141T Unlocked GSM Dual-SIM Android Cell Phone - White/Blue', 'BLU Dash JR TV D141T Unlocked GSM Dual-SIM Android Smartphone - Black', 'BLU Dash JR TV D141T Unlocked GSM Dual-SIM Android Smartphone - Black/Orange', 'BLU Dash JR TV D141T Unlocked GSM Dual-SIM Android Smartphone - Black/Yellow', 'BLU Dash JR TV D141T Unlocked GSM Dual-SIM Android Smartphone - White/Pink', 'BLU Dash JR W D141w Unlocked GSM Dual-SIM Android Cell Phone - White', 'BLU Dash L Unlocked Smartphone - Global GSM - Blue', 'BLU Dash L Unlocked Smartphone - Global GSM - Green', 'BLU Dash L Unlocked Smartphone - Global GSM - Pink', 'BLU Dash L Unlocked Smartphone - Global GSM - White', 'BLU Dash L Unlocked Smartphone - US GSM - Black', 'BLU Dash L Unlocked Smartphone - US GSM - Blue', 'BLU Dash L Unlocked Smartphone - US GSM - Pink', 'BLU Dash L Unlocked Smartphone - US GSM - White', 'BLU Dash M - 5.0\" Smartphone - Global GSM Unlocked - Black', 'BLU Dash M - 5.0\" Smartphone - US GSM Unlocked - Black', 'BLU Dash M - 5.0\" Smartphone - US GSM Unlocked - Gold', 'BLU Dash M - 5.0\" Smartphone - US GSM Unlocked - White', 'BLU DASH M2 - 5.0\" Smartphone - US GSM Unlocked -Black', 'BLU DASH M2 - 5.0\" Smartphone - US GSM Unlocked -Gold', 'BLU DASH M2 - 5.0\" Smartphone - US GSM Unlocked -Rose Gold', 'BLU DASH M2 - 5.0\" Smartphone - US GSM Unlocked -White', 'BLU Dash Music JR D390 Unlocked GSM Dual-SIM Android Smartphone - Black/Yellow', 'BLU Dash X LTE Smartphone -GSM Unlocked - Black', 'BLU Dash X LTE Smartphone -GSM Unlocked - White', 'BLU Dash X Plus - Unlocked 5.5\" Smartphone - Global GMS -Gold', 'BLU Dash X Plus - Unlocked 5.5\" Smartphone - US GMS - Black', 'BLU Dash X Plus - Unlocked 5.5\" Smartphone - US GMS -Gold', 'BLU Dash X Plus - Unlocked 5.5\" Smartphone - US GMS -Green', 'BLU Dash X Plus - Unlocked 5.5\" Smartphone - US GMS -Pink', 'BLU Dash X Plus - Unlocked 5.5\" Smartphone - US GMS -White', 'BLU Dash X Smartphone - Global GSM Unlocked - Black', 'BLU Dash X Smartphone - Global GSM Unlocked - White', 'BLU Dash X Smartphone - US GSM Unlocked - White', 'BLU DASH X2 - 5.0\" Smartphone - US GSM Unlocked -Gold', 'BLU DASH X2 - 5.0\" Smartphone - US GSM Unlocked -Grey', 'BLU Diva Flex - Flip phone - unlocked Dual Sim - Black', 'BLU Diva Flex - Flip phone - unlocked Dual Sim - Gold', 'BLU Diva Flex - Flip phone - unlocked Dual Sim - Pink', 'BLU Diva Flex - Flip phone - unlocked Dual Sim - Silver', 'BLU Diva Flex - Flip phone - unlocked Dual Sim - White', 'BLU Diva Flex 2.4 - Flip phone - unlocked Dual Sim - Gold', 'BLU Diva Flex 2.4 - Flip phone - unlocked Dual Sim - Silver', 'BLU Diva Flex 2.4 - Flip phone - unlocked Dual Sim - White', 'BLU Diva Flip - Unlocked Dual Sim - Black', 'BLU Diva Flip - Unlocked Dual Sim - Pink', 'BLU Diva Flip - Unlocked Dual Sim - Silver', 'BLU Diva II T275T Unlocked GSM Dual-SIM Cell Phone w/ Camera - Unlocked Cell Phones - Retail Packaging - Blue', 'BLU Diva II Unlocked GSM Dual-SIM Cell Phone with Camera - Retail Packaging - White', 'BLU Elite 3.8 D430b Unlocked GSM Phone with Dual SIM, 3G 850/2100, Android 2.3, 1GHz Processor and 5MP Camera - White', 'BLU Energy JR - 4.0\" GSM Unlocked Smartphone -3,000 mAh Battery - Black', 'BLU Energy X 2 - With 4000 mAh Super Battery - Global GSM Unlocked Smartphone - Gold', 'BLU Energy X 2 - With 4000 mAh Super Battery - US GSM Unlocked Smartphone - Gold', 'BLU Energy X LTE - 4000 mAh Super Battery - GSM Unlocked - Black', 'BLU Energy X LTE - 4000 mAh Super Battery - GSM Unlocked - Gold', 'BLU Energy X Plus Smartphone - With 4000 mAh Super Battery- Global GSM Unlocked - Grey', 'BLU Energy X Plus Smartphone - With 4000 mAh Super Battery- US GSM Unlocked - Grey', 'BLU Energy X Plus Smartphone - With 4000 mAh Super Battery- US GSM Unlocked - Silver', 'BLU ENERGY X Smartphone - With 4000 mAh Super Battery - GSM Unlocked - Gold', 'BLU Grand 5.5 HD Cell Phone - Global GSM Unlocked Dual SIM - G030L Pink', 'BLU Jenny II T177 Unlocked GSM Dual-SIM Cell Phone - Black/Blue', 'BLU Jenny II T177 Unlocked GSM Dual-SIM Cell Phone - Black/Red', 'BLU Jenny TV 2.8 T276T Unlocked GSM Dual-SIM Cell Phone w/ 1.3MP Camera - Unlocked Cell Phones - Retail Packaging - Black Blue', 'BLU Jenny TV 2.8 T276T Unlocked GSM Dual-SIM Cell Phone w/ 1.3MP Camera - Unlocked Cell Phones - Retail Packaging - Black Red', 'BLU Jenny TV 2.8 T276T Unlocked GSM Dual-SIM Cell Phone w/ 1.3MP Camera - Unlocked Cell Phones - Retail Packaging - White Blue', 'BLU Jenny TV Unlocked T276T Cell Phone, Retail Packaging, Black Yellow', 'Blu LIFE 8 Unlocked (Orange)', 'Blu LIFE 8 Unlocked (Pink)', 'Blu LIFE 8 Unlocked (White)', 'Blu LIFE 8 Unlocked (Yellow)', 'BLU Life 8 XL Smartphone - Unlocked - Global GSM - Orange', 'BLU Life 8 XL Smartphone - Unlocked - Global GSM - Pink', 'BLU Life 8 XL Smartphone - Unlocked - Global GSM - White', 'BLU Life 8 XL Smartphone - Unlocked - US GSM - White', 'BLU Life One 4G LTE Smartphone - GSM Unlocked - 16GB + 2GB RAM - Black', 'BLU Life One 4G LTE Smartphone - GSM Unlocked - 8GB + 1GB RAM - Black', 'BLU Life One Unlocked Dual Sim Phone L120, 16 GB, White', 'BLU Life One X - 4G LTE Smartphone - GSM Unlocked - White', 'BLU Life One X Unlocked 4G LTE GSM Smartphone (Black)', 'BLU LIFE ONE X2 - 4G LTE Unlocked Smartphone - 16GB+2GB RAM - Grey', 'BLU LIFE ONE X2 - 4G LTE Unlocked Smartphone - 64GB+4GB RAM - Grey', 'BLU Life Play Mini Global GSM - Unlocked (Pink)', 'BLU Life Play Mini L190a Unlocked GSM Dual-SIM Android 4.4 (KitKat) Smartphone - Pink', 'BLU Life Play Unlocked Dual Sim Phone with Quad-Core 1.2GHz Processor, Android 4.2 JB, 4.7-inch IPS HD Display, 4G HSPA+ up to 42Mbps and 8MP Camera (Blue)', 'BLU Life Play Unlocked Dual Sim Phone with Quad-Core 1.2GHz Processor, Android 4.2 JB, 4.7-inch IPS HD Display, 4G HSPA+ up to 42Mbps and 8MP Camera (Pink)', 'BLU Life Pure L240i Unlocked Phone 32GB Android 4G GSM (White)', 'BLU Life Pure Unlocked Phone (Black)', 'BLU Life Pure Unlocked Phone 32GB ROM, 2GB RAM (White)', 'BLU Life Pure XL Full HD, 16MP, 2.2GHz Quad Core Unlocked Cell Phones - Retail Packaging - Blue', 'BLU Life Pure XL Full HD, 16MP, 2.2GHz Quad Core, (16GB+2GB RAM) - Unlocked Cell Phones - Retail Packaging - White', 'BLU Life View L110X Unlocked 5.7-Inch 16 GB 12 MP Camera Phone(Blue)', 'BLU Life X8 Dummy Display Phone - Black', 'BLU Life X8 Global + US Unlocked GSM Dual-SIM Octa-Core Smartphone w/ 8MP Camera - Black', 'BLU Life XL - LTE Smartphone - GSM Unlocked - 16GB +2GB RAM - White', 'BLU Life XL - LTE Smartphone - GSM Unlocked - 8GB +1GB RAM - Dark Blue', 'BLU Life XL - LTE Smartphone - GSM Unlocked - 8GB +1GB RAM - White', 'BLU Life XL 4G 5.5\" 8GB 13MP Dual SIM Unlocked Android Smartphone - Dark Blue', 'BLU Life XL 4G 5.5\" 8GB 13MP Dual SIM Unlocked Android Smartphone - White', 'BLU Life XL L050U Unlocked GSM Octa-Core Android 5.1 Lollipop Smartphone w/ 13MP Camera - White (Certified Refurbished)', 'BLU Neo X Plus - 5.5\" Smartphone - Global GSM Unlocked -White', 'BLU Neo X Plus - 5.5\" Smartphone - US GSM Unlocked -Black', 'BLU PURE XL Smartphone - 4G LTE GSM Unlocked - 64GB +3GB RAM - Gold', 'BLU PURE XL Smartphone - 4G LTE GSM Unlocked - 64GB +3GB RAM - Grey', 'BLU PURE XR Smartphone - 4G LTE GSM Unlocked - 64GB +4GB RAM - Gold', 'BLU PURE XR Smartphone - 4G LTE GSM Unlocked - 64GB +4GB RAM - Grey', 'BLU Q170T Samba TV Unlocked Dual SIM Quad-Band GSM Phone (Black/Red)', 'BLU Q360T-PINK Deco Pro TV Unlocked Quad-Band Dual SIM Phone with 3.2MP Camera/2.6-Inch Touchscreen/Wi-Fi/Bluetooth - US Warranty - Pink', 'BLU Quattro 4.5 HD D450 Unlocked Phone with NVIDIA Tegra 3 Quad-Core Processor, Android 4.0, Super IPS LCD Touchscreen, Gorilla Glass, and 8MP Camera - U.S. Warranty (Black)', 'BLU S480U Unlocked Studio 7.0 II Smartphone with 5MP Main Camera (Gold)', 'BLU Selfie Global GSM - Unlocked (Blue)', 'BLU Selfie US GSM - Unlocked (Blue)', 'BLU Selfie US GSM - Unlocked (White Gold)', 'BLU Speed 4.7 LTE X120Q Unlocked GSM Quad-Core 4G Android Smartphone - Black', 'BLU Star 4.0 S410a Unlocked GSM Android 4.2 Smartphone with 4.0\" Touchscreen - White', 'BLU Star JR S350 Unlocked GSM DUAL-SIM Android Cell Phone (White)', 'BLU Studio 5.0 C HD - Unlocked Cell Phones - Retail Packaging - Blue', 'BLU Studio 5.0 C HD Quad Core - Unlocked Cell Phone - (Pink)', 'BLU Studio 5.0 C HD Quad Core - Unlocked Cell Phone - (Yellow)', 'BLU Studio 5.0 C HD Smartphone - Unlocked - Orange', 'BLU Studio 5.0 C HD Smartphone - Unlocked - Yellow', 'BLU Studio 5.0 C HD Unlocked Cellphone, Black', 'BLU Studio 5.0 C HD Unlocked Cellphone, White', 'BLU Studio 5.0 HD LTE with 5-Inch HD Display, 13MP Camera, Android KitKat v4.4 and 4G LTE HSPA+ Unlocked Cell Phone- Black', 'BLU Studio 5.0 HD Unlocked Cellphone, White', 'BLU Studio 5.0 II Unlocked Cellphone, Black', 'BLU Studio 5.0 II Unlocked Cellphone, White', 'BLU Studio 5.0 K Smartphone - Unlocked - Neon Pink', 'BLU Studio 5.0 LTE, 8MP, ( 4GB+1GB RAM)- Factory Unlocked (Orange) - Unlocked Cell Phones - Retail Packaging - Orange', 'BLU Studio 5.0 S D570I Unlocked Dual Sim Phone with Quad-Core 1.2GHz Processor, Android 4.1 JB, 5.0-inch IPS High Resolution Display, and 8MP Camera (Black)', 'BLU Studio 5.0 S II D572a Unlocked GSM Quad-Core Android Phone - Retail Packaging - Orange', 'BLU Studio 5.0 Unlocked Dual Sim Phone--U.S. Warranty (Black)', 'BLU Studio 5.0C 1.3 GHz Dual Core, Android 4.4 KK, 4G HSPA+ - Unlocked (Blue)', 'BLU Studio 5.0C 1.3 GHz Dual Core, Android 4.4 KK, 4G HSPA+ with 5MP Camera - Unlocked (Orange)', 'BLU Studio 5.0C 1.3 GHz Dual Core, Android 4.4 KK, 4G HSPA+ with 5MP Camera - Unlocked (Pink)', 'BLU Studio 5.0C 1.3 GHz Dual Core, Android 4.4 KK, 4G HSPA+ with 5MP Camera - Unlocked (White)', 'BLU Studio 5.0C 1.3 GHz Dual Core, Android 4.4 KK, 4G HSPA+ with 5MP Camera - Unlocked (Yellow)', 'BLU Studio 5.0Ce 1.3GHz Dual Core, Android 4.4 KK, 3.2MP + VGA Camera - Unlocked (White)', 'BLU Studio 5.0Ce Unlocked Cellphone, 4GB, Black', 'BLU Studio 5.0Ce Unlocked Cellphone, 4GB, Blue', 'BLU Studio 5.0k - Unlocked (Neon Yellow)', 'BLU Studio 5.3 S Unlocked Dual Sim Phone with Quad-Core 1.2GHz Processor, Android 4.1 JB, 5.3-inch IPS High Resolution Display, and 8MP Camera (Black)', 'BLU Studio 5.3 S Unlocked Dual Sim Phone with Quad-Core 1.2GHz Processor, Android 4.1 JB, 5.3-inch IPS High Resolution Display, and 8MP Camera (White)', 'BLU Studio 5.5 D610a Unlocked Dual SIM GSM Phone (Grey)', 'BLU Studio 5.5 D610a Unlocked Dual SIM GSM Phone (Pink)', 'BLU Studio 5.5 HD - Global GSM Unlocked - Gold', 'BLU Studio 5.5 HD - Global GSM Unlocked - White', 'BLU Studio 5.5 HD - US GSM Unlocked - Black', 'BLU Studio 5.5 HD - US GSM Unlocked - Gold', 'BLU Studio 5.5C D690u Unlocked GSM Dual-SIM Quad-Core Android Lollipop Smartphone - Blue', 'BLU Studio 6.0 HD D650i Unlocked GSM Dual-SIM Quad-Core Cell Phone - Black', 'BLU Studio 6.0 Unlocked Cellphone, Black', 'BLU Studio 6.0 Unlocked Cellphone, White', 'BLU Studio 7.0 II -Unlocked Smartphone - US GSM - Blue', 'BLU Studio 7.0 II -Unlocked Smartphone - US GSM - Grey', 'BLU Studio C 5.0-Inch Android Smartphone with Lollipop OS - Unlocked (Green)', 'BLU Studio C 5.0-Inch Android Smartphone with Lollipop OS - Unlocked (Orange)', 'BLU Studio C 5.0-Inch Smartphone with Android Lollipop OS - Unlocked (Green)', 'BLU Studio C 5.0-Inch Smartphone with Android Lollipop OS - Unlocked (Grey)', 'BLU Studio C 5+5 LTE Smartphone - GSM Unlocked - Black', 'BLU Studio C 5+5 LTE Smartphone - GSM Unlocked - Gold', 'BLU Studio C 5+5 Smartphone with Lollipop OS- US GSM Unlocked - Black', 'BLU Studio C 5+5 Smartphone with Lollipop OS- US GSM Unlocked - Gold', 'BLU Studio C 5+5 Smartphone with Lollipop OS- US GSM Unlocked - Green', 'BLU Studio C 5+5 Smartphone with Lollipop OS- US GSM Unlocked - Orange', 'BLU Studio C 5+5 Smartphone with Lollipop OS- US GSM Unlocked - White', 'BLU Studio C 8+8 S270Q Android 6.0 MarshMallow 3G HSPA+ US Model 8GB + 1GB RAM Quadcore 5.0\" HD 8MP + 8MP Dual Cameras Unlocked GSM Smart Phone (Blue)', 'Blu Studio C Mini Quad Core, 4.7\" IPS, Android 4.4 KK, 4G HSPA+, 5MP Camera - Unlocked Cell Phones - White', 'Blu Studio C Mini Quad Core, 4.7\" IPS, Android 4.4 KK, 4G HSPA+, 5MP Camera - Unlocked Cell Phones -Black', 'Blu Studio C Mini Quad Core, 4.7\" IPS, Android 4.4 KK, 4G HSPA+, 5MP Camera - Unlocked Cell Phones -Yellow', 'BLU Studio C Super Camera -Unlocked Smartphone - US GSM- Green', 'BLU Studio C Super Camera -Unlocked Smartphone - US GSM- Orange', 'BLU Studio C Super Camera -Unlocked Smartphone - US GSM- Pink', 'BLU Studio C Super Camera -Unlocked Smartphone - US GSM- White', 'BLU Studio G Dummy Display Phone - Black', 'BLU Studio G HD - 5.0\" Smartphone - Global GSM Unlocked - Gold', 'BLU Studio G LTE Smartphone - GSM Unlocked - Black', 'BLU Studio G Plus S510Q 8GB Unlocked GSM 5.5\" Quad-Core Smartphone w/ 8MP Camera - Black (Certified Refurbished)', 'BLU Studio G Plus S510Q 8GB Unlocked GSM 5.5\" Quad-Core Smartphone w/ 8MP Camera - White (Certified Refurbished)', 'BLU Studio M HD - 5.0\" Smartphone -Global GSM Unlocked -Black', 'BLU Studio M HD - 5.0\" Smartphone -Global GSM Unlocked -Blue', 'BLU Studio M HD - 5.0\" Smartphone -Global GSM Unlocked -Pink', 'BLU Studio M HD - 5.0\" Smartphone -Global GSM Unlocked -White', 'BLU Studio M HD 16GB - 5.0\" Smartphone -US GSM Unlocked - Blue', 'BLU Studio M HD 16GB - 5.0\" Smartphone -US GSM Unlocked - Pink', 'BLU Studio M HD 16GB - 5.0\" Smartphone -US GSM Unlocked -Black', 'BLU Studio Mini LTE with 4.5-Inch IPS Display, 5MP Camera, Android Jellybean v4.3 and 4G LTE HSPA+ Unlocked Cell Phone - Retail Packaging - Pink', 'BLU Studio One Plus S0130UU 16GB Unlocked GSM 4G LTE Octa-Core Smartphone w/ 13MP Camera - Gold', 'BLU Studio One Plus S0130UU 16GB Unlocked GSM 4G LTE Octa-Core Smartphone w/ 13MP Camera - Silver', 'BLU Studio Selfie - Smartphone - GSM Unlocked - Gold', 'BLU Studio Selfie - Smartphone - GSM Unlocked - Grey', 'BLU Studio Selfie 2 - GSM Unlocked Smartphone - Gold', 'BLU Studio Selfie 2 - GSM Unlocked Smartphone - Grey', 'BLU STUDIO X MINI 4G LTE GSM Unlocked Smartphone with Android 5.1 Lollipop OS - Black', 'BLU Studio X8 HD - 5.0\" GSM Unlocked Smartphone -Black', 'BLU Studio X8 HD - 5.0\" GSM Unlocked Smartphone -White', 'BLU Studio XL Android Smartphone - GSM Unlocked - White', 'BLU Stuido One S0110UU 16GB Unlocked GSM 5\" Quad-Core Smartphone w/ 13MP + 5MP Cameras - Gold', 'BLU Stuido One S0110UU Unlocked GSM Quad-Core Smartphone w/ 13MP Camera - Black', 'BLU T172T Jenny Unlocked Quad-Band Dual SIM Phone with Camera, BLUetooth, Analog TV, microSD Slot and MP3 Player - No Warranty - Yellow', 'BLU T176T Jenny TV 2.8 Unlocked Quad-Band Dual SIM Phone (Black/Blue)', 'BLU TANK 3 - 2.4\" Factory Unlocked Phone - BLUE', 'BLU Tank 3 - GSM Unlocked Dual Sim Cell phone with 1,900 mAh Battery -Grey', 'BLU Tank 4.5 W110A Unlocked Dual SIM Phone with Dual-Core 1GHz Processor, Androi', 'BLU Tank II T192 Unlocked GSM Dual-SIM Cell Phone (Black/Red)', 'BLU Tank II T192 Unlocked GSM Dual-SIM Smartphone - Black/Blue', 'BLU Tank II T192 Unlocked GSM Dual-SIM Smartphone - Black/Yellow', 'BLU Tank II T193 Unlocked GSM Dual-SIM Cell Phone w/ Camera and 1900 mAh Big Battery - Unlocked Cell Phones - Retail Packaging - Black Blue', 'BLU Tank II T193 Unlocked GSM Dual-SIM Cell Phone w/ Camera and 1900 mAh Big Battery - Unlocked Cell Phones - Retail Packaging - Black Red', 'BLU Tank II T193 Unlocked GSM Dual-SIM Cell Phone w/ Camera and 1900 mAh Big Battery - Unlocked Cell Phones - Retail Packaging - Black Yellow', 'BLU Tank II T193 Unlocked GSM Dual-SIM Cell Phone with Camera and 1900 mAh Big Battery - Unlocked Cell Phones - Retail Packaging - White Blue', 'BLU Tank Quadband Unlocked Dual-SIM Phone with 1800 mAh Battery, Camera and Bluetooth', 'BLU Vivo 4.65 HD D930a Unlocked Phone with 4.65-Inch Super AMOLED Plus Display, Dual SIM 3G 850/1900, Dual Core 1.2GHz Processor, Android 4.0 ICS, and 8 MP Camera - US Warranty', 'BLU VIVO 5 Smartphone -5.5\" 4G LTE GSM Unlocked - 32GB +3GB RAM - Gold', 'BLU VIVO 5 Smartphone -5.5\" 4G LTE GSM Unlocked - 32GB +3GB RAM - Silver', 'BLU VIVO 5R Refresh Smartphone - 5.5-Inch Display 4G LTE GSM Unlocked, GOLD', 'BLU VIVO 5R Refresh Smartphone - 5.5-Inch Display 4G LTE GSM Unlocked, GREY', 'BLU Vivo Air LTE Factory Unlocked Phone - Retail Packaging - White', 'BLU Vivo Air Unlocked Cellphone, 16GB, White/Gold', 'BLU Vivo Selfie Smartphone - US GSM Unlocked - Black', 'BLU Vivo XL Smartphone - 5.5\" 4G LTE - GSM Unlocked - Chrome Silver', 'BLU Vivo XL Smartphone - 5.5\" 4G LTE - GSM Unlocked - Midnight Blue', 'BLU Vivo XL Smartphone - 5.5\" 4G LTE - GSM Unlocked - Solid Gold', 'BLU Win HD 5-Inch Windows Phone 8.1, 8MP Camera Unlocked Cell Phones - Yellow (Certified Refurbished)', 'BLU WIN HD LTE - 5.0\" Windows Smartphone -GSM Unlocked - Grey', 'BLU WIN HD LTE - 5.0\" Windows Smartphone -GSM Unlocked - White', 'BLU WIN HD LTE - 5.0\" Windows Smartphone -GSM Unlocked - Yellow', 'BLU Win HD W510L 8GB Unlocked GSM Windows 8.1 Quad-Core HSPA+ Phone', 'BLU WIN JR - 4.0\" Windows Smartphone - Global GSM Unlocked - Orange', 'BLU WIN JR - 4.0\" Windows Smartphone - Global GSM Unlocked - White', 'BLU WIN JR - 4.0\" Windows Smartphone - Global GSM Unlocked - Yellow', 'BLU WIN JR - 4.0\" Windows Smartphone - US GSM Unlocked - Yellow', 'BLU Win JR 4-Inch Windows Phone 8.1, 5MP Camera, Unlocked Cell Phones-White', 'BLU Win Jr LTE - GSM Unlocked Windows Smartphone - Gray', 'BLU Win Jr LTE - GSM Unlocked Windows Smartphone - Pink', 'BLU Win Jr LTE - GSM Unlocked Windows Smartphone - White', 'BLU Win JR Smartphone - Unlocked - Pink', 'BLU Z3 - Dual Sim Phone - GSM unlocked -Black/Blue', 'BLU Z3 - Dual Sim Phone - GSM unlocked -Black/Red', 'BLU Zoey 2.4 3G Unlocked Black & Blue Perfect affordable alternatives to higher priced iPhone 6s and Samsung S6', 'BLUBOO Maya 16GB ROM 5.5 Inch Android 6.0 Smartphone, MTK6580A Quad Core 1.3GHz, 2GB RAM GSM & WCDMA (Gold)', 'BLUBOO Maya 16GB ROM 5.5 Inch Android 6.0 Smartphone, MTK6580A Quad Core 1.3GHz, 2GB RAM GSM & WCDMA (Grey)', 'BLUBOO Maya Max 32GB 6.0 Inch Android 6.0 Smartphone, MTK6750 Octa Core 1.5GHz, 3GB RAM GSM & WCDMA & FDD-LTE (Gold)', 'BLUBOO Maya Max 32GB 6.0 Inch Android 6.0 Smartphone, MTK6750 Octa Core 1.5GHz, 3GB RAM GSM & WCDMA & FDD-LTE (Grey)', 'Bluboo Xfire 2 8GB 5 inch IPS Screen Android 5.1 Smartphone, MTK6580 Quad Core 1.2GHz , RAM: 1GB, Support Dual SIM, GPS, FM, GSM & WCDMA (Black)', 'Bluboo Xfire 2 8GB 5 inch IPS Screen Android 5.1 Smartphone, MTK6580 Quad Core 1.2GHz , RAM: 1GB, Support Dual SIM, GPS, FM, GSM & WCDMA (Gold)', 'Bluboo Xfire 2 8GB 5 inch IPS Screen Android 5.1 Smartphone, MTK6580 Quad Core 1.2GHz , RAM: 1GB, Support Dual SIM, GPS, FM, GSM & WCDMA (Rose Gold)', 'Bluboo Xfire 2 8GB 5 inch IPS Screen Android 5.1 Smartphone, MTK6580 Quad Core 1.2GHz , RAM: 1GB, Support Dual SIM, GPS, FM, GSM & WCDMA (White)', 'BlueCosmo Iridium Extreme Satellite Phone Kit & 1000 Minute 2 Year Global Prepaid SIM', 'BlueCosmo Iridium Extreme Satellite Phone Kit & 200 Minute 6 Month Global Prepaid SIM', 'BlueCosmo Iridium Extreme Satellite Phone Kit & Canada Alaska 200 Minute 6 Month Prepaid SIM (Northern Lights)', 'BlueCosmo Iridium Extreme Satellite Phone Kit & Monthly Service Plan SIM', 'BlueCosmo Iridium Extreme Satellite Phone Kit & Prepaid SIM Card', 'BlueCosmo Iridium Fixed Mast Antenna Pole Mount 1 Inch Thread', 'BlueCosmo Iridium GO! Satellite Phone Wi-Fi Hotspot for Voice, Messaging & Data with BlueCosmo SIM', 'Bluetooth Mini Mobile Phones with Sim Card (Black)', 'Bluetooth Mini Mobile Phones with Sim Card (White)', 'Boost Mobile 64K SIM Card with Activation Code (NEW) - for iDEN type phones only (No GSM or CDMA)', 'Boost Mobile BMSCP6760 Incognito', 'Boost Mobile Mirro', 'Boost Mobile Motorola I776W Purple Prepaid', 'Brand New Nokia 201 Pink RM-800 Factory Unlocked US Warranty GSM 850/1900', 'Brand New Nokia E75-1 Silver Black Factory Unlocked made in Finland GSM phone', 'Brand New Samsung Galaxy Note 3 III N9005 32gb White ★ Factory Unlocked★ International Version', 'Brand New Sony XPERIA E1 Dual Sim D2105 White (FACTORY UNLOCKED) 3.15MP , 4.0\" , 4GB', 'BRAND NEW VERIZON BLACKBERRY CURVE 3G 9330 FUCHSIA RED 2MP QWERTY WITHOUT CONTRACT SMARTPHONE', 'BrightSpot ALCATEL ONETOUCH FierceTM 2 7040T 5\" qHD Display Touch Screen 4G Capable Android 4.4 Powered By T-Mobile', 'BT300BK Universal Mini Bluetooth Headset Wireless Handsfree For mobile phones, iPhone, android phone, watch phone, PS3, PDA', 'BT300WH Universal Mini Bluetooth Headset Wireless Handsfree For mobile phones, iPhone, android phone, watch phone, PS3, PDA', 'CablesOnline 3.5mm Stereo TRRS 4-Pole Plug to 3.5mm Mic & Headset Jack iPhone Audio Cable (IP-AY02W)', \"Casio G'zOne Boulder Phone, Black/Silver (Verizon Wireless) No Contract Required\", 'Casio GzOne Boulder Water Proof Black/Silver Camera Cell Phone Verizon or Page Plus Pre-Paid No Contract Required', 'Casio GzOne C731 Rock, Black (Verizon Wireless) CDMA. - No Contract Required.', \"Casio G'zOne Ravine C751 Rugged Cell Phone Verizon\", \"Casio G'zOne Type S Phone, Blue (Verizon Wireless) CDMA - Rugged - No Contract Required\", \"Casio G'zOne Type-V Verizon Cell Phone\", 'Cat B100 Unlocked GSM 3G Military Grade + IP67 Certified Cell Phone - Black', 'CAT PHONES Caterpillar S40 Rugged Waterproof Smartphone', 'CAT PHONES S60 Rugged Waterproof Smartphone with integrated FLIR camera', 'CAT S40 16GB Unlocked GSM 4G LTE Refined/Rugged + IP68 Certified Quad-Core Smartphone w/ 8MP Camera - Black', 'Cat S60 Factory Unlocked GSM 32gb with FLIR - ROW variant - International Version/No warranty- Bands 1,3,7,8, 20', 'Caterpillar B100 Unlocked GSM Military Grade + IP67 Certified Smartphone - Black', 'Caterpillar B25 Unlocked GSM QuadBand Cell Phone (Black)', 'CATERPILLAR CAT B15 IP67 ULTRA RUGGED BLACK FACTORY UNLOCKED SINGLE SIM CELL PHONE(2G 850/900/1800/1900 & 3G 900/2100)', 'Caterpillar CAT B15Q Dual Sim, 4GB, IP67, Factory Unlocked, US Warranty (Black)', 'CATERPILLAR CAT B25 IP67 ULTRA RUGGED BLACK FACTORY UNLOCKED SINGLE SIM CELL PHONE(2G 850/900/1800/1900 & NO 3G)', 'CATERPILLAR CAT B30 DUAL SIM IP67 BLACK FACTORY UNLOCKED 3G CELL PHONE', 'CATERPILLAR CAT S30 8GB DUAL SIM BLACK/SILVER IP68 FACTORY UNLOCKED 4G/LTE CELL PHONE', 'Caterpillar CAT S40 Rugged Waterproof Black 16GB Dual Sim Factory Unlocked 4G Phone', 'CBSKY® 5\"Inch HD IPS Blackview BV5000 MTK6735 Quad Core 4g lte SmartPhone, Android 5.1 Lollipop 2GB RAM 16GB ROM Dual SIM GPS Phone (Violet Black)', 'CBSKY® 5\"Inch HD IPS Blackview BV5000 MTK6735 Quad Core SmartPhone, Android 5.1 Lollipop 2GB RAM 16GB ROM Dual SIM GPS Phone (Orange)', 'Cectdigi® 2.2 Touch Screen Mini Ultra-thin Mobile Phone Android Smart Phone Guinness Smallest Android GPS Wifi', 'CECTDIGI® HOMTOM HT17 4G LTE Smartphone 5.5 Inch IPS MTK6737 Quad Core 64bit Android 6.0 1GB+8GB 3000mAh OTG 13MP Fingerprint (White)', 'Cell Phones Unlocked 5.5\" Android 5.1 MTK6580 Quad Core Dual Sim Quadband-JUNING 3G Smartphone White', 'Cell Phones Unlocked 7.0\" Dual Sim Android 4.4 MTK6572 Dual Core-JUNING Smartphone Black', 'CellAllure Bolt 5.5\" HD Screen- OGS/ Dual SIM/ 4G-LTE/ Factory Unlocked Android Smartphone/ 13MP Camera', 'CellAllure Book II 5.7\" HD screen - OGS/ Dual SIM/ 4G (HPSD+) Factory Unlocked Android Smartphone/ 13MP Camera', 'CellAllure Chic II 5.3\" screen/ Dual SIM/ 4G (HPSD+) Factory Unlocked Android Smartphone/ (Low Cost)', 'CellAllure Cool 5.5\" screen- OGS/ Dual SIM/ 4G (HPSD+) Factory Unlocked Android Smartphone/ (Good Deal)', 'CellAllure Fashion 5.0\" HD screen/ Dual SIM/ 4G (HPSD+) Factory Unlocked Android Smartphone/ 13MP Camera', 'CellAllure Smart III 5.0\" screen - IPS / Dual SIM / 4G (HPSD+) Factory Unlocked Android Smartphone / (Good Everyday Phone)', 'CellAllure Style 5.0\" LCD FWVGA Screen/ Dual SIM/ 4G /Factory Unlocked Android Smartphone/ Grey', 'CellAllure Vogue 5.0\" screen - OGS / Dual SIM / 4G (HPSD+) Factory Unlocked Android Smartphone / 13MP Camera', 'Cellphone 6.0\" Unlocked Android 5.1 Quad Core Dual Sim GSM Quadband JUNING Smartphones Gold', 'Cellphone Dual Sim Duos Bar Phone Unnecto Primo Quad Band Mp3 Player Bluetooth Desbloqueado', 'Cellphones Unlocked CHSLING 5.5\" IPS HD Anroid 5.1 MTK6580 Quad Core ROM 8GB 5.0MP Camera White', 'Cheerson CX-32W White with Camera and aerial photography function as well as phone WIFI video transmissions function', 'CHSLING Cell Phones Unlocked 4.5\" Anroid 5.1 MTK6580 Quad Core ROM 4GB 2.0MP Camera GSM/3G Quadband Dual Sim Smartphones WIFI Bluetooth Black', 'CHSLING Cell Phones Unlocked 5.0\" Anroid 5.1 MTK6580 Quad Core ROM 4GB 5.0MP Camera GSM/3G Quadband Dual Sim Smartphones WIFI Bluetooth Black', 'CHSLING Unlocked Android MTK6580 Quad Core ROM 4GB 2.0MP Camera GSM/3G Quadband Dual Sim Smartphone - White', 'CHSLING Unlocked Anroid 5.1 Phones 4.5\" MTK6580 Quad Core ROM 4GB 2.0MP Camera GSM/3G Quadband Dual Sim Cellphones Smartphones WIFI Bluetooth Pink', 'CNPGD [U.S. Office Extended Warranty] Smartwatch + Unlocked Watch Cell Phone All in 1 Bluetooth Watch for iPhone Android Samsung Galaxy Note,Nexus,htc,Sony Brown', 'CNPGD [U.S. Office Extended Warranty] Smartwatch + Unlocked Watch Cell Phone All in 1 Bluetooth Watch for iPhone Android Samsung Galaxy Note,Nexus,htc,Sony Silver', 'CNPGD [U.S. Office Extended Warranty] Smartwatch + Unlocked Watch Cell Phone All in 1 Bluetooth Watch for iPhone Android Samsung Galaxy Note,Nexus,htc,Sony White', 'CNPGD [U.S. Office Extended Warranty] Smartwatch Watch Cell Phone Water Resistant NFC Heart Rate Monitor Dual OS Available for Android and IOS Gold', 'CNPGD [U.S. Office Extended Warranty] Weatherproof Smartwatch Touchscreen for iPhone Android Samsung Galaxy Note,Nexus,htc,Sony Black', 'CNPGD [U.S. Warranty] All-in-1 Smartwatch and Watch Cell Phone', 'CNPGD [U.S. Warranty] All-in-1 Smartwatch and Watch Cell Phone Gold', 'CNPGD [U.S. Warranty] All-in-1 Smartwatch and Watch Cell Phone Red', 'CNPGD [U.S. Warranty] All-in-1 Smartwatch and Watch Cell Phone Silver', 'CNPGD All-in-1 Smartwatch+GSM Watch Cell Phone, with FM, MP3/4, Voice recorder (Pink)', 'CNPGD All-in-1 Watch Cell Phone & Smart Watch Sync to Android IOS Smart Phone (Black Plus)']\n"
          ],
          "name": "stdout"
        }
      ]
    },
    {
      "cell_type": "code",
      "metadata": {
        "id": "WSvFD6pCV3G-",
        "colab_type": "code",
        "colab": {}
      },
      "source": [
        "brand_name=[]\n",
        "for item in dataset[\"Brand Name\"]:\n",
        "    if item in brand_name:\n",
        "        continue\n",
        "    else:\n",
        "        brand_name.append(item)"
      ],
      "execution_count": 0,
      "outputs": []
    },
    {
      "cell_type": "code",
      "metadata": {
        "id": "sSGyZyjtV60x",
        "colab_type": "code",
        "outputId": "9ccedd10-dd7a-4b07-b943-de8cdc1be64a",
        "colab": {
          "base_uri": "https://localhost:8080/",
          "height": 34
        }
      },
      "source": [
        "brand_name[0:5]"
      ],
      "execution_count": 0,
      "outputs": [
        {
          "output_type": "execute_result",
          "data": {
            "text/plain": [
              "['Samsung', 'Nokia', nan, 'HTM', 'Jethro']"
            ]
          },
          "metadata": {
            "tags": []
          },
          "execution_count": 10
        }
      ]
    },
    {
      "cell_type": "code",
      "metadata": {
        "id": "HVctlUBLV_A7",
        "colab_type": "code",
        "colab": {}
      },
      "source": [
        "mydata=pd.DataFrame(dataset)"
      ],
      "execution_count": 0,
      "outputs": []
    },
    {
      "cell_type": "code",
      "metadata": {
        "id": "tMv1K_OIWDIT",
        "colab_type": "code",
        "colab": {}
      },
      "source": [
        "from sklearn.utils import shuffle #shuffling data"
      ],
      "execution_count": 0,
      "outputs": []
    },
    {
      "cell_type": "code",
      "metadata": {
        "id": "VtSdLdgRWGbK",
        "colab_type": "code",
        "colab": {}
      },
      "source": [
        "mydata=shuffle(mydata)"
      ],
      "execution_count": 0,
      "outputs": []
    },
    {
      "cell_type": "code",
      "metadata": {
        "id": "9kicwExFWKUi",
        "colab_type": "code",
        "outputId": "9c9a1458-808a-4711-afe6-8f37147583c0",
        "colab": {
          "base_uri": "https://localhost:8080/",
          "height": 306
        }
      },
      "source": [
        "mydata.head()"
      ],
      "execution_count": 0,
      "outputs": [
        {
          "output_type": "execute_result",
          "data": {
            "text/html": [
              "<div>\n",
              "<style scoped>\n",
              "    .dataframe tbody tr th:only-of-type {\n",
              "        vertical-align: middle;\n",
              "    }\n",
              "\n",
              "    .dataframe tbody tr th {\n",
              "        vertical-align: top;\n",
              "    }\n",
              "\n",
              "    .dataframe thead th {\n",
              "        text-align: right;\n",
              "    }\n",
              "</style>\n",
              "<table border=\"1\" class=\"dataframe\">\n",
              "  <thead>\n",
              "    <tr style=\"text-align: right;\">\n",
              "      <th></th>\n",
              "      <th>Product Name</th>\n",
              "      <th>Brand Name</th>\n",
              "      <th>Price</th>\n",
              "      <th>Rating</th>\n",
              "      <th>Reviews</th>\n",
              "      <th>Review Votes</th>\n",
              "    </tr>\n",
              "  </thead>\n",
              "  <tbody>\n",
              "    <tr>\n",
              "      <th>42262</th>\n",
              "      <td>Apple iPhone 5S 32 gb (Space Gray) - AT&amp;T</td>\n",
              "      <td>NaN</td>\n",
              "      <td>135.00</td>\n",
              "      <td>4</td>\n",
              "      <td>The seller exaggerated the quality a bit of th...</td>\n",
              "      <td>0.0</td>\n",
              "    </tr>\n",
              "    <tr>\n",
              "      <th>6875</th>\n",
              "      <td>Apple Iphone 4 - 8gb Sprint (CDMA) White, Smar...</td>\n",
              "      <td>NaN</td>\n",
              "      <td>NaN</td>\n",
              "      <td>5</td>\n",
              "      <td>Its perfect! Really cool device. I like that y...</td>\n",
              "      <td>0.0</td>\n",
              "    </tr>\n",
              "    <tr>\n",
              "      <th>109060</th>\n",
              "      <td>BLU Dash C Music-US GSM - Unlocked Cell Phone ...</td>\n",
              "      <td>BLU</td>\n",
              "      <td>54.34</td>\n",
              "      <td>2</td>\n",
              "      <td>good night,,, would buy two phones, BLU Dash C...</td>\n",
              "      <td>0.0</td>\n",
              "    </tr>\n",
              "    <tr>\n",
              "      <th>111281</th>\n",
              "      <td>BLU Dash JR 4.0 K Smartphone - Unlocked - White</td>\n",
              "      <td>BLU</td>\n",
              "      <td>43.95</td>\n",
              "      <td>1</td>\n",
              "      <td>Beware!!! This phone is the worst</td>\n",
              "      <td>0.0</td>\n",
              "    </tr>\n",
              "    <tr>\n",
              "      <th>80445</th>\n",
              "      <td>ASUS ZenFone 2 Laser Unlocked Smartphone, 3GB ...</td>\n",
              "      <td>ASUS Computers</td>\n",
              "      <td>229.00</td>\n",
              "      <td>5</td>\n",
              "      <td>Best phone ever!! I am a unlock cel phone guy....</td>\n",
              "      <td>1.0</td>\n",
              "    </tr>\n",
              "  </tbody>\n",
              "</table>\n",
              "</div>"
            ],
            "text/plain": [
              "                                             Product Name  ... Review Votes\n",
              "42262           Apple iPhone 5S 32 gb (Space Gray) - AT&T  ...          0.0\n",
              "6875    Apple Iphone 4 - 8gb Sprint (CDMA) White, Smar...  ...          0.0\n",
              "109060  BLU Dash C Music-US GSM - Unlocked Cell Phone ...  ...          0.0\n",
              "111281    BLU Dash JR 4.0 K Smartphone - Unlocked - White  ...          0.0\n",
              "80445   ASUS ZenFone 2 Laser Unlocked Smartphone, 3GB ...  ...          1.0\n",
              "\n",
              "[5 rows x 6 columns]"
            ]
          },
          "metadata": {
            "tags": []
          },
          "execution_count": 14
        }
      ]
    },
    {
      "cell_type": "code",
      "metadata": {
        "id": "mOB8wBzeWN10",
        "colab_type": "code",
        "colab": {}
      },
      "source": [
        "mydata=mydata.dropna() #removed null values of brands"
      ],
      "execution_count": 0,
      "outputs": []
    },
    {
      "cell_type": "code",
      "metadata": {
        "id": "dN4dlZTaWSfD",
        "colab_type": "code",
        "outputId": "92b9c303-4dd8-4654-f4ac-12f4872f39c1",
        "colab": {
          "base_uri": "https://localhost:8080/",
          "height": 306
        }
      },
      "source": [
        "mydata.head()"
      ],
      "execution_count": 0,
      "outputs": [
        {
          "output_type": "execute_result",
          "data": {
            "text/html": [
              "<div>\n",
              "<style scoped>\n",
              "    .dataframe tbody tr th:only-of-type {\n",
              "        vertical-align: middle;\n",
              "    }\n",
              "\n",
              "    .dataframe tbody tr th {\n",
              "        vertical-align: top;\n",
              "    }\n",
              "\n",
              "    .dataframe thead th {\n",
              "        text-align: right;\n",
              "    }\n",
              "</style>\n",
              "<table border=\"1\" class=\"dataframe\">\n",
              "  <thead>\n",
              "    <tr style=\"text-align: right;\">\n",
              "      <th></th>\n",
              "      <th>Product Name</th>\n",
              "      <th>Brand Name</th>\n",
              "      <th>Price</th>\n",
              "      <th>Rating</th>\n",
              "      <th>Reviews</th>\n",
              "      <th>Review Votes</th>\n",
              "    </tr>\n",
              "  </thead>\n",
              "  <tbody>\n",
              "    <tr>\n",
              "      <th>109060</th>\n",
              "      <td>BLU Dash C Music-US GSM - Unlocked Cell Phone ...</td>\n",
              "      <td>BLU</td>\n",
              "      <td>54.34</td>\n",
              "      <td>2</td>\n",
              "      <td>good night,,, would buy two phones, BLU Dash C...</td>\n",
              "      <td>0.0</td>\n",
              "    </tr>\n",
              "    <tr>\n",
              "      <th>111281</th>\n",
              "      <td>BLU Dash JR 4.0 K Smartphone - Unlocked - White</td>\n",
              "      <td>BLU</td>\n",
              "      <td>43.95</td>\n",
              "      <td>1</td>\n",
              "      <td>Beware!!! This phone is the worst</td>\n",
              "      <td>0.0</td>\n",
              "    </tr>\n",
              "    <tr>\n",
              "      <th>80445</th>\n",
              "      <td>ASUS ZenFone 2 Laser Unlocked Smartphone, 3GB ...</td>\n",
              "      <td>ASUS Computers</td>\n",
              "      <td>229.00</td>\n",
              "      <td>5</td>\n",
              "      <td>Best phone ever!! I am a unlock cel phone guy....</td>\n",
              "      <td>1.0</td>\n",
              "    </tr>\n",
              "    <tr>\n",
              "      <th>83353</th>\n",
              "      <td>BlackBerry 8220 Flip Pearl Unlocked Phone with...</td>\n",
              "      <td>BlackBerry</td>\n",
              "      <td>269.10</td>\n",
              "      <td>5</td>\n",
              "      <td>highly recommended this shop! I send my phone ...</td>\n",
              "      <td>0.0</td>\n",
              "    </tr>\n",
              "    <tr>\n",
              "      <th>22522</th>\n",
              "      <td>Apple iPhone 5 Unlocked Cellphone, 32GB, White</td>\n",
              "      <td>Apple</td>\n",
              "      <td>265.00</td>\n",
              "      <td>1</td>\n",
              "      <td>Was not as listed... it was NOT unlocked! Glad...</td>\n",
              "      <td>0.0</td>\n",
              "    </tr>\n",
              "  </tbody>\n",
              "</table>\n",
              "</div>"
            ],
            "text/plain": [
              "                                             Product Name  ... Review Votes\n",
              "109060  BLU Dash C Music-US GSM - Unlocked Cell Phone ...  ...          0.0\n",
              "111281    BLU Dash JR 4.0 K Smartphone - Unlocked - White  ...          0.0\n",
              "80445   ASUS ZenFone 2 Laser Unlocked Smartphone, 3GB ...  ...          1.0\n",
              "83353   BlackBerry 8220 Flip Pearl Unlocked Phone with...  ...          0.0\n",
              "22522      Apple iPhone 5 Unlocked Cellphone, 32GB, White  ...          0.0\n",
              "\n",
              "[5 rows x 6 columns]"
            ]
          },
          "metadata": {
            "tags": []
          },
          "execution_count": 16
        }
      ]
    },
    {
      "cell_type": "code",
      "metadata": {
        "id": "YqnAWhyUWWCO",
        "colab_type": "code",
        "outputId": "4f42cd36-0505-4991-f389-f9766af31aa3",
        "colab": {
          "base_uri": "https://localhost:8080/",
          "height": 34
        }
      },
      "source": [
        "mydata.shape"
      ],
      "execution_count": 0,
      "outputs": [
        {
          "output_type": "execute_result",
          "data": {
            "text/plain": [
              "(145043, 6)"
            ]
          },
          "metadata": {
            "tags": []
          },
          "execution_count": 17
        }
      ]
    },
    {
      "cell_type": "code",
      "metadata": {
        "id": "vQKAuTf6X8oi",
        "colab_type": "code",
        "outputId": "dc76b20f-2f0b-41c9-a6f8-5d5a89c1b953",
        "colab": {
          "base_uri": "https://localhost:8080/",
          "height": 71
        }
      },
      "source": [
        "from nltk.sentiment.vader import SentimentIntensityAnalyzer"
      ],
      "execution_count": 0,
      "outputs": [
        {
          "output_type": "stream",
          "text": [
            "/usr/local/lib/python3.6/dist-packages/nltk/twitter/__init__.py:20: UserWarning: The twython library has not been installed. Some functionality from the twitter package will not be available.\n",
            "  warnings.warn(\"The twython library has not been installed. \"\n"
          ],
          "name": "stderr"
        }
      ]
    },
    {
      "cell_type": "code",
      "metadata": {
        "id": "9KD413m6UAxt",
        "colab_type": "code",
        "outputId": "c66346fa-9569-47eb-9928-ab9e25a71773",
        "colab": {
          "base_uri": "https://localhost:8080/",
          "height": 68
        }
      },
      "source": [
        "nltk.download('punkt')"
      ],
      "execution_count": 0,
      "outputs": [
        {
          "output_type": "stream",
          "text": [
            "[nltk_data] Downloading package punkt to /root/nltk_data...\n",
            "[nltk_data]   Package punkt is already up-to-date!\n"
          ],
          "name": "stdout"
        },
        {
          "output_type": "execute_result",
          "data": {
            "text/plain": [
              "True"
            ]
          },
          "metadata": {
            "tags": []
          },
          "execution_count": 19
        }
      ]
    },
    {
      "cell_type": "code",
      "metadata": {
        "id": "lfsAD1I6UPk2",
        "colab_type": "code",
        "colab": {}
      },
      "source": [
        "#Tokenization = dividing into tokens\n",
        "tok=[]\n",
        "for i in range(0,10000):\n",
        "  s=nltk.word_tokenize(mydata['Reviews'].iloc[i])\n",
        "  tok.append(s)\n"
      ],
      "execution_count": 0,
      "outputs": []
    },
    {
      "cell_type": "code",
      "metadata": {
        "id": "j4vjYZgEWXuL",
        "colab_type": "code",
        "colab": {}
      },
      "source": [
        "#Removing \n",
        "punctuations=\"?:!.,;\"\n",
        "for i in tok:\n",
        "  for j in i:\n",
        "    if j in punctuations:\n",
        "      i.remove(j)\n"
      ],
      "execution_count": 0,
      "outputs": []
    },
    {
      "cell_type": "code",
      "metadata": {
        "id": "265PPYOFZnas",
        "colab_type": "code",
        "outputId": "e854a5a9-f7c7-49ab-b9e2-741217de7a19",
        "colab": {
          "base_uri": "https://localhost:8080/",
          "height": 68
        }
      },
      "source": [
        "from nltk.stem import WordNetLemmatizer\n",
        "nltk.download('wordnet')"
      ],
      "execution_count": 0,
      "outputs": [
        {
          "output_type": "stream",
          "text": [
            "[nltk_data] Downloading package wordnet to /root/nltk_data...\n",
            "[nltk_data]   Unzipping corpora/wordnet.zip.\n"
          ],
          "name": "stdout"
        },
        {
          "output_type": "execute_result",
          "data": {
            "text/plain": [
              "True"
            ]
          },
          "metadata": {
            "tags": []
          },
          "execution_count": 22
        }
      ]
    },
    {
      "cell_type": "code",
      "metadata": {
        "id": "4V0-CtqoXgW_",
        "colab_type": "code",
        "colab": {}
      },
      "source": [
        "lem=WordNetLemmatizer()\n",
        "new_lem_list=[]\n",
        "for i in tok:\n",
        "  lem_list=[]\n",
        "  for j in i:\n",
        "    lem_list.append(lem.lemmatize(j,pos='v'))\n",
        "  new_lem_list.append(' '.join(lem_list))\n"
      ],
      "execution_count": 0,
      "outputs": []
    },
    {
      "cell_type": "code",
      "metadata": {
        "id": "556z_SQbaR8a",
        "colab_type": "code",
        "outputId": "94f08f6d-2ee3-4fad-9494-acb3f0abf46e",
        "colab": {
          "base_uri": "https://localhost:8080/",
          "height": 34
        }
      },
      "source": [
        "new_lem_list[1]"
      ],
      "execution_count": 0,
      "outputs": [
        {
          "output_type": "execute_result",
          "data": {
            "text/plain": [
              "'Beware ! This phone be the worst'"
            ]
          },
          "metadata": {
            "tags": []
          },
          "execution_count": 24
        }
      ]
    },
    {
      "cell_type": "code",
      "metadata": {
        "id": "dBXMj_TgdCqn",
        "colab_type": "code",
        "colab": {}
      },
      "source": [
        ""
      ],
      "execution_count": 0,
      "outputs": []
    },
    {
      "cell_type": "code",
      "metadata": {
        "id": "2SfAHqLCbRKI",
        "colab_type": "code",
        "colab": {}
      },
      "source": [
        "def sentiment_value(paragraph):\n",
        "    analyser = SentimentIntensityAnalyzer()\n",
        "    result = analyser.polarity_scores(paragraph)\n",
        "    score = result['compound']\n",
        "    return round(score,1)"
      ],
      "execution_count": 0,
      "outputs": []
    },
    {
      "cell_type": "code",
      "metadata": {
        "id": "dl9_e804f9oz",
        "colab_type": "code",
        "outputId": "c7646685-ae7b-4723-eafc-16784e5ef9d7",
        "colab": {
          "base_uri": "https://localhost:8080/",
          "height": 34
        }
      },
      "source": [
        "len(new_lem_list)"
      ],
      "execution_count": 0,
      "outputs": [
        {
          "output_type": "execute_result",
          "data": {
            "text/plain": [
              "10000"
            ]
          },
          "metadata": {
            "tags": []
          },
          "execution_count": 26
        }
      ]
    },
    {
      "cell_type": "code",
      "metadata": {
        "id": "eec2JAiub_7P",
        "colab_type": "code",
        "outputId": "5aace983-d343-466d-aff7-c42657b0fc76",
        "colab": {
          "base_uri": "https://localhost:8080/",
          "height": 51
        }
      },
      "source": [
        "import nltk\n",
        "nltk.download('vader_lexicon')"
      ],
      "execution_count": 0,
      "outputs": [
        {
          "output_type": "stream",
          "text": [
            "[nltk_data] Downloading package vader_lexicon to /root/nltk_data...\n"
          ],
          "name": "stdout"
        },
        {
          "output_type": "execute_result",
          "data": {
            "text/plain": [
              "True"
            ]
          },
          "metadata": {
            "tags": []
          },
          "execution_count": 27
        }
      ]
    },
    {
      "cell_type": "code",
      "metadata": {
        "id": "i3Ocv3cJcvDv",
        "colab_type": "code",
        "outputId": "18999f7f-8983-458f-e72b-cf94b172c1dc",
        "colab": {
          "base_uri": "https://localhost:8080/",
          "height": 34
        }
      },
      "source": [
        "sample1 = mydata['Reviews'].iloc[1231]\n",
        "print(sentiment_value(sample1))"
      ],
      "execution_count": 0,
      "outputs": [
        {
          "output_type": "stream",
          "text": [
            "0.9\n"
          ],
          "name": "stdout"
        }
      ]
    },
    {
      "cell_type": "code",
      "metadata": {
        "id": "v7UiVfRRdkov",
        "colab_type": "code",
        "colab": {}
      },
      "source": [
        "all_reviews = new_lem_list\n",
        "all_sent_values = []\n",
        "all_sentiments = []"
      ],
      "execution_count": 0,
      "outputs": []
    },
    {
      "cell_type": "code",
      "metadata": {
        "id": "hlUu7iP5emHn",
        "colab_type": "code",
        "colab": {}
      },
      "source": [
        "for i in range(0,10000):\n",
        "    all_sent_values.append(sentiment_value(new_lem_list[i]))"
      ],
      "execution_count": 0,
      "outputs": []
    },
    {
      "cell_type": "code",
      "metadata": {
        "id": "uRgKAgxkfBL4",
        "colab_type": "code",
        "outputId": "11a00f03-f8a1-4b27-d2ca-b7c034cca2d7",
        "colab": {
          "base_uri": "https://localhost:8080/",
          "height": 34
        }
      },
      "source": [
        "len(all_sent_values)"
      ],
      "execution_count": 0,
      "outputs": [
        {
          "output_type": "execute_result",
          "data": {
            "text/plain": [
              "10000"
            ]
          },
          "metadata": {
            "tags": []
          },
          "execution_count": 31
        }
      ]
    },
    {
      "cell_type": "code",
      "metadata": {
        "id": "69WJocrRhJ7Z",
        "colab_type": "code",
        "colab": {}
      },
      "source": [
        "    temp_data = mydata[0:10000]"
      ],
      "execution_count": 0,
      "outputs": []
    },
    {
      "cell_type": "code",
      "metadata": {
        "id": "zRk62L_0iE3i",
        "colab_type": "code",
        "outputId": "255cb345-8106-4fd7-c361-0d4f47238c19",
        "colab": {
          "base_uri": "https://localhost:8080/",
          "height": 139
        }
      },
      "source": [
        "temp_data[\"Reviews\"]=new_lem_list"
      ],
      "execution_count": 0,
      "outputs": [
        {
          "output_type": "stream",
          "text": [
            "/usr/local/lib/python3.6/dist-packages/ipykernel_launcher.py:1: SettingWithCopyWarning: \n",
            "A value is trying to be set on a copy of a slice from a DataFrame.\n",
            "Try using .loc[row_indexer,col_indexer] = value instead\n",
            "\n",
            "See the caveats in the documentation: http://pandas.pydata.org/pandas-docs/stable/indexing.html#indexing-view-versus-copy\n",
            "  \"\"\"Entry point for launching an IPython kernel.\n"
          ],
          "name": "stderr"
        }
      ]
    },
    {
      "cell_type": "code",
      "metadata": {
        "id": "y97tgKDwkChl",
        "colab_type": "code",
        "colab": {}
      },
      "source": [
        "SENTIMENT_VALUE = []\n",
        "SENTIMENT = []\n",
        "for i in range(0,10000):\n",
        "    sent = all_sent_values[i]\n",
        "    if (sent<=1 and sent>=0.5):\n",
        "        SENTIMENT.append('V.Positive')\n",
        "        SENTIMENT_VALUE.append(5)\n",
        "    elif (sent<0.5 and sent>0):\n",
        "        SENTIMENT.append('Positive')\n",
        "        SENTIMENT_VALUE.append(4)\n",
        "    elif (sent==0):\n",
        "        SENTIMENT.append('Neutral')\n",
        "        SENTIMENT_VALUE.append(3)\n",
        "    elif (sent<0 and sent>-0.5):\n",
        "        SENTIMENT.append('Negative')\n",
        "        SENTIMENT_VALUE.append(2)\n",
        "    else:\n",
        "        SENTIMENT.append('V.Negative')\n",
        "        SENTIMENT_VALUE.append(1)"
      ],
      "execution_count": 0,
      "outputs": []
    },
    {
      "cell_type": "code",
      "metadata": {
        "id": "LkigNNHIkpxA",
        "colab_type": "code",
        "outputId": "fe9fb6e3-3f9d-4378-a503-47c15abd08c0",
        "colab": {
          "base_uri": "https://localhost:8080/",
          "height": 241
        }
      },
      "source": [
        "temp_data['SENTIMENT_VALUE'] = SENTIMENT_VALUE\n",
        "temp_data['SENTIMENT'] = SENTIMENT"
      ],
      "execution_count": 0,
      "outputs": [
        {
          "output_type": "stream",
          "text": [
            "/usr/local/lib/python3.6/dist-packages/ipykernel_launcher.py:1: SettingWithCopyWarning: \n",
            "A value is trying to be set on a copy of a slice from a DataFrame.\n",
            "Try using .loc[row_indexer,col_indexer] = value instead\n",
            "\n",
            "See the caveats in the documentation: http://pandas.pydata.org/pandas-docs/stable/indexing.html#indexing-view-versus-copy\n",
            "  \"\"\"Entry point for launching an IPython kernel.\n",
            "/usr/local/lib/python3.6/dist-packages/ipykernel_launcher.py:2: SettingWithCopyWarning: \n",
            "A value is trying to be set on a copy of a slice from a DataFrame.\n",
            "Try using .loc[row_indexer,col_indexer] = value instead\n",
            "\n",
            "See the caveats in the documentation: http://pandas.pydata.org/pandas-docs/stable/indexing.html#indexing-view-versus-copy\n",
            "  \n"
          ],
          "name": "stderr"
        }
      ]
    },
    {
      "cell_type": "code",
      "metadata": {
        "id": "bA9rJOhGlDAP",
        "colab_type": "code",
        "outputId": "4a35bcef-ac7d-42c5-cac7-c3246435aa97",
        "colab": {
          "base_uri": "https://localhost:8080/",
          "height": 391
        }
      },
      "source": [
        "temp_data.head()"
      ],
      "execution_count": 0,
      "outputs": [
        {
          "output_type": "execute_result",
          "data": {
            "text/html": [
              "<div>\n",
              "<style scoped>\n",
              "    .dataframe tbody tr th:only-of-type {\n",
              "        vertical-align: middle;\n",
              "    }\n",
              "\n",
              "    .dataframe tbody tr th {\n",
              "        vertical-align: top;\n",
              "    }\n",
              "\n",
              "    .dataframe thead th {\n",
              "        text-align: right;\n",
              "    }\n",
              "</style>\n",
              "<table border=\"1\" class=\"dataframe\">\n",
              "  <thead>\n",
              "    <tr style=\"text-align: right;\">\n",
              "      <th></th>\n",
              "      <th>Product Name</th>\n",
              "      <th>Brand Name</th>\n",
              "      <th>Price</th>\n",
              "      <th>Rating</th>\n",
              "      <th>Reviews</th>\n",
              "      <th>Review Votes</th>\n",
              "      <th>SENTIMENT_VALUE</th>\n",
              "      <th>SENTIMENT</th>\n",
              "    </tr>\n",
              "  </thead>\n",
              "  <tbody>\n",
              "    <tr>\n",
              "      <th>109060</th>\n",
              "      <td>BLU Dash C Music-US GSM - Unlocked Cell Phone ...</td>\n",
              "      <td>BLU</td>\n",
              "      <td>54.34</td>\n",
              "      <td>2</td>\n",
              "      <td>good night would buy two phone BLU Dash C Musi...</td>\n",
              "      <td>0.0</td>\n",
              "      <td>4</td>\n",
              "      <td>Positive</td>\n",
              "    </tr>\n",
              "    <tr>\n",
              "      <th>111281</th>\n",
              "      <td>BLU Dash JR 4.0 K Smartphone - Unlocked - White</td>\n",
              "      <td>BLU</td>\n",
              "      <td>43.95</td>\n",
              "      <td>1</td>\n",
              "      <td>Beware ! This phone be the worst</td>\n",
              "      <td>0.0</td>\n",
              "      <td>1</td>\n",
              "      <td>V.Negative</td>\n",
              "    </tr>\n",
              "    <tr>\n",
              "      <th>80445</th>\n",
              "      <td>ASUS ZenFone 2 Laser Unlocked Smartphone, 3GB ...</td>\n",
              "      <td>ASUS Computers</td>\n",
              "      <td>229.00</td>\n",
              "      <td>5</td>\n",
              "      <td>Best phone ever ! I be a unlock cel phone guy ...</td>\n",
              "      <td>1.0</td>\n",
              "      <td>5</td>\n",
              "      <td>V.Positive</td>\n",
              "    </tr>\n",
              "    <tr>\n",
              "      <th>83353</th>\n",
              "      <td>BlackBerry 8220 Flip Pearl Unlocked Phone with...</td>\n",
              "      <td>BlackBerry</td>\n",
              "      <td>269.10</td>\n",
              "      <td>5</td>\n",
              "      <td>highly recommend this shop I send my phone bra...</td>\n",
              "      <td>0.0</td>\n",
              "      <td>4</td>\n",
              "      <td>Positive</td>\n",
              "    </tr>\n",
              "    <tr>\n",
              "      <th>22522</th>\n",
              "      <td>Apple iPhone 5 Unlocked Cellphone, 32GB, White</td>\n",
              "      <td>Apple</td>\n",
              "      <td>265.00</td>\n",
              "      <td>1</td>\n",
              "      <td>Was not as list ... it be NOT unlock Glad I ge...</td>\n",
              "      <td>0.0</td>\n",
              "      <td>2</td>\n",
              "      <td>Negative</td>\n",
              "    </tr>\n",
              "  </tbody>\n",
              "</table>\n",
              "</div>"
            ],
            "text/plain": [
              "                                             Product Name  ...   SENTIMENT\n",
              "109060  BLU Dash C Music-US GSM - Unlocked Cell Phone ...  ...    Positive\n",
              "111281    BLU Dash JR 4.0 K Smartphone - Unlocked - White  ...  V.Negative\n",
              "80445   ASUS ZenFone 2 Laser Unlocked Smartphone, 3GB ...  ...  V.Positive\n",
              "83353   BlackBerry 8220 Flip Pearl Unlocked Phone with...  ...    Positive\n",
              "22522      Apple iPhone 5 Unlocked Cellphone, 32GB, White  ...    Negative\n",
              "\n",
              "[5 rows x 8 columns]"
            ]
          },
          "metadata": {
            "tags": []
          },
          "execution_count": 36
        }
      ]
    },
    {
      "cell_type": "code",
      "metadata": {
        "id": "1sPtXx_tlvDn",
        "colab_type": "code",
        "outputId": "c52fe339-4ba5-45e6-c650-ff060d71086a",
        "colab": {
          "base_uri": "https://localhost:8080/",
          "height": 34
        }
      },
      "source": [
        "temp_data.shape"
      ],
      "execution_count": 0,
      "outputs": [
        {
          "output_type": "execute_result",
          "data": {
            "text/plain": [
              "(10000, 8)"
            ]
          },
          "metadata": {
            "tags": []
          },
          "execution_count": 37
        }
      ]
    },
    {
      "cell_type": "code",
      "metadata": {
        "id": "Xz14lChdmaTI",
        "colab_type": "code",
        "colab": {}
      },
      "source": [
        "counter = 0\n",
        "for i in range(0,10000):\n",
        "    if (abs(temp_data['Rating'].iloc[i]-temp_data['SENTIMENT_VALUE'].iloc[i])>1):\n",
        "        counter += 1"
      ],
      "execution_count": 0,
      "outputs": []
    },
    {
      "cell_type": "code",
      "metadata": {
        "id": "_G1Q-kE5y9LW",
        "colab_type": "code",
        "colab": {}
      },
      "source": [
        "accuracy = (temp_data.shape[0]-counter)/temp_data.shape[0]"
      ],
      "execution_count": 0,
      "outputs": []
    },
    {
      "cell_type": "code",
      "metadata": {
        "id": "wMdBkEfzzS1k",
        "colab_type": "code",
        "colab": {}
      },
      "source": [
        "percent_accuracy = accuracy*100"
      ],
      "execution_count": 0,
      "outputs": []
    },
    {
      "cell_type": "code",
      "metadata": {
        "id": "vnzIZbAS1BqS",
        "colab_type": "code",
        "outputId": "b25b3a89-04d0-45a2-a2fc-1ca7ab3e02b5",
        "colab": {
          "base_uri": "https://localhost:8080/",
          "height": 34
        }
      },
      "source": [
        "percent_accuracy"
      ],
      "execution_count": 0,
      "outputs": [
        {
          "output_type": "execute_result",
          "data": {
            "text/plain": [
              "76.32"
            ]
          },
          "metadata": {
            "tags": []
          },
          "execution_count": 41
        }
      ]
    },
    {
      "cell_type": "code",
      "metadata": {
        "id": "MuPwgjj-1D9C",
        "colab_type": "code",
        "colab": {}
      },
      "source": [
        " "
      ],
      "execution_count": 0,
      "outputs": []
    }
  ]
}